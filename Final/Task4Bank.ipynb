{
 "cells": [
  {
   "cell_type": "code",
   "execution_count": 18,
   "id": "e12af208",
   "metadata": {},
   "outputs": [
    {
     "ename": "Unknown Error",
     "evalue": "<console>:45: error: stable identifier required, but spark.implicits found.\n       import spark.implicits._\n                    ^\n",
     "output_type": "error",
     "traceback": []
    }
   ],
   "source": [
    "import org.apache.spark.sql.SparkSession\n",
    "import org.apache.spark.sql.types.{DataTypes, StructField}\n",
    "import org.apache.spark.sql.types._\n",
    "\n",
    "import java.util.Date\n",
    "import java.time.format.DateTimeFormatter\n",
    "import org.apache.spark.sql.{functions => F}\n",
    "import org.apache.spark.sql.{functions => T}\n",
    "import org.apache.spark.sql.expressions\n",
    "import org.apache.spark.sql.expressions.Window\n",
    "//import spark.implicits._"
   ]
  },
  {
   "cell_type": "code",
   "execution_count": 19,
   "id": "cb170c39",
   "metadata": {},
   "outputs": [
    {
     "data": {
      "text/plain": [
       "spark = org.apache.spark.sql.SparkSession@62294e78\n"
      ]
     },
     "metadata": {},
     "output_type": "display_data"
    },
    {
     "data": {
      "text/plain": [
       "org.apache.spark.sql.SparkSession@62294e78"
      ]
     },
     "execution_count": 19,
     "metadata": {},
     "output_type": "execute_result"
    }
   ],
   "source": [
    "// создаем spark сессию\n",
    "val spark:SparkSession = SparkSession.builder()\n",
    "      .master(\"local[]\")\n",
    "      .appName(\"Task4\")\n",
    "      .getOrCreate()"
   ]
  },
  {
   "cell_type": "code",
   "execution_count": 20,
   "id": "ef7e707d",
   "metadata": {},
   "outputs": [
    {
     "data": {
      "text/plain": [
       "pDate1 = 2020-11-01\n",
       "pDate2 = 2020-11-02\n",
       "pDate3 = 2020-11-03\n",
       "pDate4 = 2020-11-04\n",
       "pDateCommon = 2020-11-01\n"
      ]
     },
     "metadata": {},
     "output_type": "display_data"
    },
    {
     "data": {
      "text/plain": [
       "2020-11-01"
      ]
     },
     "execution_count": 20,
     "metadata": {},
     "output_type": "execute_result"
    }
   ],
   "source": [
    " // Даты, на которые будет строиться витрина\n",
    "val pDate1 = \"2020-11-01\"\n",
    "val pDate2 = \"2020-11-02\"\n",
    "val pDate3 = \"2020-11-03\"\n",
    "val pDate4 = \"2020-11-04\"\n",
    "\n",
    "// Общий параметр для запуска витрин\n",
    "// Для запуска витрин просто пишем: val pDateCommon = pDate1 или val pDateCommon = pDate2 и.т.д\n",
    "\n",
    "val pDateCommon = pDate1 // Все витрины будут построены на дату pDate2"
   ]
  },
  {
   "cell_type": "code",
   "execution_count": 21,
   "id": "590985dd",
   "metadata": {},
   "outputs": [
    {
     "data": {
      "text/plain": [
       "schemaClients = StructType(StructField(ClientId,IntegerType,true),StructField(ClientName,StringType,true),StructField(Type,StringType,true),StructField(Form,StringType,true),StructField(RegisterDate,DateType,true))\n",
       "schemaAccounts = StructType(StructField(AccountId,IntegerType,false),StructField(AccountNum,StringType,false),StructField(ClientId,IntegerType,false),StructField(DateOpen,DateType,false))\n",
       "schemaOperations = StructType(StructField(AccountDB,IntegerType,true),StructField(AccountCR,IntegerType,true),StructField(DateOp,DateType,true),StructField(Amount,DecimalType(10,2),false),StructField(Currency,StringType,true),StructField(Comment,StringType,true))\n"
      ]
     },
     "metadata": {},
     "output_type": "display_data"
    },
    {
     "data": {
      "text/plain": [
       "schemaRates: ...\n"
      ]
     },
     "metadata": {},
     "output_type": "display_data"
    },
    {
     "data": {
      "text/plain": [
       "StructType(StructField(AccountDB,IntegerType,true),StructField(AccountCR,IntegerType,true),StructField(DateOp,DateType,true),StructField(Amount,DecimalType(10,2),false),StructField(Currency,StringType,true),StructField(Comment,StringType,true))"
      ]
     },
     "execution_count": 21,
     "metadata": {},
     "output_type": "execute_result"
    }
   ],
   "source": [
    "// Определим схему данных для таблицы клиентов\n",
    "val schemaClients = DataTypes.createStructType(Array[StructField](\n",
    "      DataTypes.createStructField(\"ClientId\", DataTypes.IntegerType, true),\n",
    "      DataTypes.createStructField(\"ClientName\", DataTypes.StringType, true),\n",
    "      DataTypes.createStructField(\"Type\", DataTypes.StringType, true),\n",
    "      DataTypes.createStructField(\"Form\", DataTypes.StringType, true),  \n",
    "      DataTypes.createStructField(\"RegisterDate\", DataTypes.DateType, true)))\n",
    "\n",
    "// Определим схему данных для таблицы счетов\n",
    "val schemaAccounts = StructType(Array[StructField](\n",
    "      DataTypes.createStructField(\"AccountId\", DataTypes.IntegerType, false),\n",
    "      DataTypes.createStructField(\"AccountNum\", DataTypes.StringType, false),\n",
    "      DataTypes.createStructField(\"ClientId\", DataTypes.IntegerType, false),\n",
    "      DataTypes.createStructField(\"DateOpen\", DataTypes.DateType, false)))\n",
    "\n",
    "// Определим схему данных для таблицы банковских операций \n",
    "val schemaOperations = StructType(Array[StructField](\n",
    "      DataTypes.createStructField(\"AccountDB\", DataTypes.IntegerType, true),\n",
    "      DataTypes.createStructField(\"AccountCR\", DataTypes.IntegerType, true),\n",
    "      DataTypes.createStructField(\"DateOp\", DataTypes.DateType, true),\n",
    "      DataTypes.createStructField(\"Amount\", DecimalType(10, 2), false),\n",
    "      DataTypes.createStructField(\"Currency\", DataTypes.StringType, true), \n",
    "      DataTypes.createStructField(\"Comment\", StringType, true)))                                          \n",
    "// Определим схему данных для таблицы курсов валют\n",
    "val schemaRates = DataTypes.createStructType(Array[StructField](\n",
    "      DataTypes.createStructField(\"Currency\", DataTypes.StringType, false),\n",
    "      DataTypes.createStructField(\"Rate\", DecimalType(10, 2), false),\n",
    "      DataTypes.createStructField(\"RateDate\", DataTypes.DateType, false)))"
   ]
  },
  {
   "cell_type": "code",
   "execution_count": 22,
   "id": "d6d5d4af",
   "metadata": {},
   "outputs": [
    {
     "name": "stdout",
     "output_type": "stream",
     "text": [
      "+--------+----------+----+----+------------+\n",
      "|ClientId|ClientName|Type|Form|RegisterDate|\n",
      "+--------+----------+----+----+------------+\n",
      "|       1|  Клиент 1|   Ф|   -|  2020-11-01|\n",
      "|       2|  Клиент 2|   Ю| ООО|  2020-11-02|\n",
      "|       3|  Клиент 3|   Ф|   -|  2020-11-03|\n",
      "|       4|  Клиент 4|   Ю|  ИП|  2020-11-04|\n",
      "|       5|  Клиент 5|   Ф|   -|  2020-11-01|\n",
      "|       6|  Клиент 6|   Ю|  АО|  2020-11-02|\n",
      "|       7|  Клиент 7|   Ф|   -|  2020-11-03|\n",
      "|       8|  Клиент 8|   Ю| ПАО|  2020-11-01|\n",
      "|       9|  Клиент 9|   Ф|   -|  2020-11-02|\n",
      "|      10| Клиент 10|   Ю| ООО|  2020-11-03|\n",
      "|      11| Клиент 11|   Ф|   -|  2020-11-04|\n",
      "|      12| Клиент 12|   Ю|  ИП|  2020-11-01|\n",
      "|      13| Клиент 13|   Ф|   -|  2020-11-02|\n",
      "|      14| Клиент 14|   Ю|  АО|  2020-11-03|\n",
      "|      15| Клиент 15|   Ф|   -|  2020-11-01|\n",
      "|      16| Клиент 16|   Ю| ПАО|  2020-11-02|\n",
      "|      17| Клиент 17|   Ф|   -|  2020-11-03|\n",
      "|      18| Клиент 18|   Ю| ООО|  2020-11-04|\n",
      "|      19| Клиент 19|   Ф|   -|  2020-11-01|\n",
      "|      20| Клиент 20|   Ю|  ИП|  2020-11-02|\n",
      "+--------+----------+----+----+------------+\n",
      "only showing top 20 rows\n",
      "\n",
      "+---------+--------------------+--------+----------+\n",
      "|AccountId|          AccountNum|ClientId|  DateOpen|\n",
      "+---------+--------------------+--------+----------+\n",
      "|        1|40702810927050000337|       1|2020-11-01|\n",
      "|        2|40802810300000009067|       2|2020-11-02|\n",
      "|        3|40802810300000009708|       3|2020-11-03|\n",
      "|        4|40802810800000030701|       4|2020-11-04|\n",
      "|        5|40802810300000011071|       5|2020-11-01|\n",
      "|        6|40802810100000063339|       6|2020-11-02|\n",
      "|        7|40702810823620000031|       7|2020-11-03|\n",
      "|        8|40802810409260005894|       8|2020-11-04|\n",
      "|        9|40802810905030000004|       9|2020-11-01|\n",
      "|       10|40802810400020001097|      10|2020-11-02|\n",
      "|       11|40702810717060008427|      11|2020-11-03|\n",
      "|       12|40702810836260000957|      12|2020-11-04|\n",
      "|       13|40702810000000150277|      13|2020-11-01|\n",
      "|       14|40702810200000145833|      14|2020-11-02|\n",
      "|       15|40702810200000145891|      15|2020-11-03|\n",
      "|       16|40702810400000099734|      16|2020-11-04|\n",
      "|       17|40702810600000057437|      17|2020-11-01|\n",
      "|       18|40702810472000008818|      18|2020-11-02|\n",
      "|       19|40702810400000100092|      19|2020-11-03|\n",
      "|       20|40702810473000000378|      20|2020-11-04|\n",
      "+---------+--------------------+--------+----------+\n",
      "only showing top 20 rows\n",
      "\n",
      "+---------+---------+----------+------+--------+--------------------+\n",
      "|AccountDB|AccountCR|    DateOp|Amount|Currency|             Comment|\n",
      "+---------+---------+----------+------+--------+--------------------+\n",
      "|        1|     4999|2020-11-01|  1.00|     RUB|а/м, а\\м, автомоб...|\n",
      "|        2|     5000|2020-11-02|  2.00|     USD| сою, соя, зерно,...|\n",
      "|        3|     5001|2020-11-03|  3.00|      EU|сигар, табачн, та...|\n",
      "|        4|     5002|2020-11-04|  4.00|     RUB|гсм, бензин, керо...|\n",
      "|        5|     5003|2020-11-01|  5.00|     USD|компью, монитор, ...|\n",
      "|        6|     5004|2020-11-02|  6.00|      EU|ювелир,  юв., лом...|\n",
      "|        7|     5005|2020-11-03|  7.00|     RUB|хоз, бытхим, подг...|\n",
      "|        8|     5006|2020-11-04|  8.00|     USD|турусл, турист, з...|\n",
      "|        9|     5007|2020-11-01|  9.00|      EU|торгвыруч, оплату...|\n",
      "|       10|     5008|2020-11-02|  1.00|     RUB|а/м, а\\м, автомоб...|\n",
      "|       11|     5009|2020-11-03| 11.00|     USD| сою, соя, зерно,...|\n",
      "|       12|     5010|2020-11-04| 12.00|      EU|сигар, табачн, та...|\n",
      "|       13|     5011|2020-11-01| 13.00|     RUB|гсм, бензин, керо...|\n",
      "|       14|     5012|2020-11-02| 14.00|     USD|компью, монитор, ...|\n",
      "|       15|     5013|2020-11-03| 15.00|      EU|ювелир,  юв., лом...|\n",
      "|       16|     5014|2020-11-04| 16.00|     RUB|хоз, бытхим, подг...|\n",
      "|       17|     5015|2020-11-01| 17.00|     USD|турусл, турист, з...|\n",
      "|       18|     5016|2020-11-02| 18.00|      EU|торгвыруч, оплату...|\n",
      "|       19|     5017|2020-11-03| 19.00|     RUB|а/м, а\\м, автомоб...|\n",
      "|       20|     5018|2020-11-04|  2.00|     USD| сою, соя, зерно,...|\n",
      "+---------+---------+----------+------+--------+--------------------+\n",
      "only showing top 20 rows\n",
      "\n",
      "+--------+-----+----------+\n",
      "|Currency| Rate|  RateDate|\n",
      "+--------+-----+----------+\n",
      "|     USD|70.23|2023-01-01|\n",
      "|      EU|75.27|2023-01-01|\n",
      "|     RUB| 1.00|2023-01-01|\n",
      "|     USD|72.23|2023-01-02|\n",
      "|      EU|74.27|2023-01-02|\n",
      "|     RUB| 1.00|2023-01-02|\n",
      "+--------+-----+----------+\n",
      "\n"
     ]
    },
    {
     "data": {
      "text/plain": [
       "dfClients = [ClientId: int, ClientName: string ... 3 more fields]\n",
       "dfAccounts = [AccountId: int, AccountNum: string ... 2 more fields]\n",
       "dfOperations = [AccountDB: int, AccountCR: int ... 4 more fields]\n",
       "dfRates = [Currency: string, Rate: decimal(10,2) ... 1 more field]\n"
      ]
     },
     "metadata": {},
     "output_type": "display_data"
    },
    {
     "data": {
      "text/plain": [
       "[Currency: string, Rate: decimal(10,2) ... 1 more field]"
      ]
     },
     "execution_count": 22,
     "metadata": {},
     "output_type": "execute_result"
    }
   ],
   "source": [
    "// чтение полного набора данных\n",
    "// считаем csv файл клиентов Clients.csv, запишем прочитанное в dataframe\n",
    "val dfClients = spark.read.format(\"csv\")\n",
    "        .option(\"header\", \"true\")\n",
    "        //.option(\"encoding\", \"KOI8_U\")\n",
    "        .option(\"multiline\", true)\n",
    "        .option(\"sep\", \";\")\n",
    "        .option(\"dateformat\",\"yyyy-MM-dd\")\n",
    "        .option(\"enforceSchema\", true)\n",
    "        .schema(schemaClients)\n",
    "        .load(\"files/Clients.csv\")\n",
    "dfClients.show()\n",
    "\n",
    "// считаем csv файл счетов Account.csv, запишем прочитанное в dataframe\n",
    "val dfAccounts = spark.read.format(\"csv\")\n",
    "        .option(\"header\", \"true\")\n",
    "        .option(\"multiline\", true)\n",
    "        .option(\"sep\", \";\")\n",
    "        .option(\"dateformat\",\"yyyy-MM-dd\")\n",
    "        .option(\"enforceSchema\", true)\n",
    "        .schema(schemaAccounts)\n",
    "        .load(\"files/Account.csv\")\n",
    "dfAccounts.show()\n",
    "\n",
    "// считаем csv файл банковских операций Operation.csv, запишем прочитанное в dataframe\n",
    "val dfOperations = spark.read.format(\"csv\")\n",
    "        .option(\"header\", \"true\")\n",
    "        .option(\"multiline\", true)\n",
    "        .option(\"sep\", \";\")\n",
    "        .option(\"enforceSchema\", true)\n",
    "        .option(\"dateformat\",\"yyyy-MM-dd\")\n",
    "        .schema(schemaOperations)\n",
    "        .load(\"files/Operation.csv\")\n",
    "dfOperations.show()\n",
    "\n",
    "// считаем csv файл курса валют Rate.csv, запишем прочитанное в dataframe\n",
    "val dfRates = spark.read.format(\"csv\")\n",
    "        .option(\"header\", \"true\")\n",
    "        .option(\"multiline\", true)\n",
    "        .option(\"sep\", \";\")\n",
    "        .option(\"enforceSchema\", true)\n",
    "        .schema(schemaRates)\n",
    "        .load(\"files/Rate.csv\")\n",
    "dfRates.show()"
   ]
  },
  {
   "cell_type": "code",
   "execution_count": 42,
   "id": "0db065ab",
   "metadata": {},
   "outputs": [
    {
     "data": {
      "text/plain": [
       "lists = [id: int, maskvalue: string]\n"
      ]
     },
     "metadata": {},
     "output_type": "display_data"
    },
    {
     "name": "stdout",
     "output_type": "stream",
     "text": [
      "+---------+\n",
      "|maskvalue|\n",
      "+---------+\n",
      "|        %|\n",
      "+---------+\n",
      "\n"
     ]
    },
    {
     "data": {
      "text/plain": [
       "[id: int, maskvalue: string]"
      ]
     },
     "execution_count": 42,
     "metadata": {},
     "output_type": "execute_result"
    }
   ],
   "source": [
    "/// Считаем строки из БД postgres\n",
    "// СУБД postgres находится локально\n",
    "\n",
    "val lists = spark.read\n",
    "    .format(\"jdbc\")\n",
    "    .option(\"url\", \"jdbc:postgresql://192.168.84.137:5435/bank\")\n",
    "    .option(\"dbtable\", \"list\")\n",
    "    .option(\"user\", \"postgres\")\n",
    "    .option(\"password\", \"postgres\")\n",
    "    .option(\"driver\", \"org.postgresql.Driver\")\n",
    "    .load()\n",
    "lists.select(\"maskvalue\").filter(\"Id = 1\").show()"
   ]
  },
  {
   "cell_type": "code",
   "execution_count": 29,
   "id": "b19e1e73",
   "metadata": {},
   "outputs": [
    {
     "data": {
      "text/plain": [
       "clientsAndAccounts = [ClientId: int, ClientName: string ... 6 more fields]\n"
      ]
     },
     "metadata": {},
     "output_type": "display_data"
    },
    {
     "data": {
      "text/plain": [
       "[ClientId: int, ClientName: string ... 6 more fields]"
      ]
     },
     "execution_count": 29,
     "metadata": {},
     "output_type": "execute_result"
    }
   ],
   "source": [
    "val clientsAndAccounts = dfClients.join(dfAccounts,\"ClientId\")"
   ]
  },
  {
   "cell_type": "code",
   "execution_count": 30,
   "id": "45f44840",
   "metadata": {},
   "outputs": [
    {
     "data": {
      "text/plain": [
       "20000"
      ]
     },
     "execution_count": 30,
     "metadata": {},
     "output_type": "execute_result"
    }
   ],
   "source": [
    "clientsAndAccounts.orderBy(\"ClientId\").count()"
   ]
  },
  {
   "cell_type": "code",
   "execution_count": 31,
   "id": "fb8273d0",
   "metadata": {},
   "outputs": [
    {
     "name": "stdout",
     "output_type": "stream",
     "text": [
      "+--------+----------+----+----+------------+---------+--------------------+----------+\n",
      "|ClientId|ClientName|Type|Form|RegisterDate|AccountId|          AccountNum|  DateOpen|\n",
      "+--------+----------+----+----+------------+---------+--------------------+----------+\n",
      "|       1|  Клиент 1|   Ф|   -|  2020-11-01|        1|40702810927050000337|2020-11-01|\n",
      "|       2|  Клиент 2|   Ю| ООО|  2020-11-02|        2|40802810300000009067|2020-11-02|\n",
      "|       3|  Клиент 3|   Ф|   -|  2020-11-03|        3|40802810300000009708|2020-11-03|\n",
      "|       4|  Клиент 4|   Ю|  ИП|  2020-11-04|        4|40802810800000030701|2020-11-04|\n",
      "|       5|  Клиент 5|   Ф|   -|  2020-11-01|        5|40802810300000011071|2020-11-01|\n",
      "|       6|  Клиент 6|   Ю|  АО|  2020-11-02|        6|40802810100000063339|2020-11-02|\n",
      "|       7|  Клиент 7|   Ф|   -|  2020-11-03|        7|40702810823620000031|2020-11-03|\n",
      "|       8|  Клиент 8|   Ю| ПАО|  2020-11-01|        8|40802810409260005894|2020-11-04|\n",
      "|       9|  Клиент 9|   Ф|   -|  2020-11-02|        9|40802810905030000004|2020-11-01|\n",
      "|      10| Клиент 10|   Ю| ООО|  2020-11-03|       10|40802810400020001097|2020-11-02|\n",
      "|      11| Клиент 11|   Ф|   -|  2020-11-04|       11|40702810717060008427|2020-11-03|\n",
      "|      12| Клиент 12|   Ю|  ИП|  2020-11-01|       12|40702810836260000957|2020-11-04|\n",
      "|      13| Клиент 13|   Ф|   -|  2020-11-02|       13|40702810000000150277|2020-11-01|\n",
      "|      14| Клиент 14|   Ю|  АО|  2020-11-03|       14|40702810200000145833|2020-11-02|\n",
      "|      15| Клиент 15|   Ф|   -|  2020-11-01|       15|40702810200000145891|2020-11-03|\n",
      "|      16| Клиент 16|   Ю| ПАО|  2020-11-02|       16|40702810400000099734|2020-11-04|\n",
      "|      17| Клиент 17|   Ф|   -|  2020-11-03|       17|40702810600000057437|2020-11-01|\n",
      "|      18| Клиент 18|   Ю| ООО|  2020-11-04|       18|40702810472000008818|2020-11-02|\n",
      "|      19| Клиент 19|   Ф|   -|  2020-11-01|       19|40702810400000100092|2020-11-03|\n",
      "|      20| Клиент 20|   Ю|  ИП|  2020-11-02|       20|40702810473000000378|2020-11-04|\n",
      "+--------+----------+----+----+------------+---------+--------------------+----------+\n",
      "only showing top 20 rows\n",
      "\n"
     ]
    }
   ],
   "source": [
    "clientsAndAccounts.show()"
   ]
  },
  {
   "cell_type": "code",
   "execution_count": 32,
   "id": "b3a2c045",
   "metadata": {},
   "outputs": [
    {
     "data": {
      "text/plain": [
       "clientsAndAccountsOp = [AccountDB: int, AccountCR: int ... 14 more fields]\n"
      ]
     },
     "metadata": {},
     "output_type": "display_data"
    },
    {
     "data": {
      "text/plain": [
       "[AccountDB: int, AccountCR: int ... 14 more fields]"
      ]
     },
     "execution_count": 32,
     "metadata": {},
     "output_type": "execute_result"
    }
   ],
   "source": [
    "//Делаем join таблицы ClientsAndAccounts и Operations\n",
    "val clientsAndAccountsOp = dfOperations\n",
    "    .join(clientsAndAccounts.select($\"ClientId\".as(\"ClientDB\"),\n",
    "                                    $\"AccountId\".as(\"AccDB\"),\n",
    "                                    $\"AccountNum\".as(\"NumDB\"),\n",
    "                                    $\"Type\".as(\"TypeDB\"),\n",
    "                                    $\"Form\".as(\"FormDB\")\n",
    "                                   ),\n",
    "          $\"AccDB\"===$\"AccountDB\" || $\"AccDB\" === $\"AccountCR\",\"left\")\n",
    "    .join(clientsAndAccounts.select($\"ClientId\".as(\"ClientCR\"),\n",
    "                                    $\"AccountId\".as(\"AccCR\"),\n",
    "                                    $\"AccountNum\".as(\"NumCR\"),\n",
    "                                    $\"Type\".as(\"TypeCR\"),\n",
    "                                    $\"Form\".as(\"FormCR\")\n",
    "                                   ),\n",
    "         $\"AccCR\"===$\"AccountCR\",\"left\")"
   ]
  },
  {
   "cell_type": "code",
   "execution_count": 33,
   "id": "5f5a84bb",
   "metadata": {},
   "outputs": [
    {
     "name": "stdout",
     "output_type": "stream",
     "text": [
      "+---------+---------+----------+------+--------+--------------------+--------+-----+--------------------+------+------+--------+-----+--------------------+------+------+\n",
      "|AccountDB|AccountCR|    DateOp|Amount|Currency|             Comment|ClientDB|AccDB|               NumDB|TypeDB|FormDB|ClientCR|AccCR|               NumCR|TypeCR|FormCR|\n",
      "+---------+---------+----------+------+--------+--------------------+--------+-----+--------------------+------+------+--------+-----+--------------------+------+------+\n",
      "|        8|     5006|2020-11-04|  8.00|     USD|турусл, турист, з...|       8|    8|40802810409260005894|     Ю|   ПАО|    5006| 5006|40702810020270000072|     Ю|    АО|\n",
      "|        8|     5006|2020-11-04|  8.00|     USD|турусл, турист, з...|    5006| 5006|40702810020270000072|     Ю|    АО|    5006| 5006|40702810020270000072|     Ю|    АО|\n",
      "|        5|     5003|2020-11-01|  5.00|     USD|компью, монитор, ...|       5|    5|40802810300000011071|     Ф|     -|    5003| 5003|40802810520270000061|     Ф|     -|\n",
      "|        5|     5003|2020-11-01|  5.00|     USD|компью, монитор, ...|    5003| 5003|40802810520270000061|     Ф|     -|    5003| 5003|40802810520270000061|     Ф|     -|\n",
      "|        2|     5000|2020-11-02|  2.00|     USD| сою, соя, зерно,...|       2|    2|40802810300000009067|     Ю|   ООО|    5000| 5000|40802810311150000183|     Ю|   ПАО|\n",
      "|        2|     5000|2020-11-02|  2.00|     USD| сою, соя, зерно,...|    5000| 5000|40802810311150000183|     Ю|   ПАО|    5000| 5000|40802810311150000183|     Ю|   ПАО|\n",
      "|        3|     5001|2020-11-03|  3.00|      EU|сигар, табачн, та...|       3|    3|40802810300000009708|     Ф|     -|    5001| 5001|40702810326030000178|     Ф|     -|\n",
      "|        3|     5001|2020-11-03|  3.00|      EU|сигар, табачн, та...|    5001| 5001|40702810326030000178|     Ф|     -|    5001| 5001|40702810326030000178|     Ф|     -|\n",
      "|        6|     5004|2020-11-02|  6.00|      EU|ювелир,  юв., лом...|       6|    6|40802810100000063339|     Ю|    АО|    5004| 5004|40702810623050000084|     Ю|    ИП|\n",
      "|        6|     5004|2020-11-02|  6.00|      EU|ювелир,  юв., лом...|    5004| 5004|40702810623050000084|     Ю|    ИП|    5004| 5004|40702810623050000084|     Ю|    ИП|\n",
      "|        1|     4999|2020-11-01|  1.00|     RUB|а/м, а\\м, автомоб...|       1|    1|40702810927050000337|     Ф|     -|    4999| 4999|40802810147180000076|     Ф|     -|\n",
      "|        1|     4999|2020-11-01|  1.00|     RUB|а/м, а\\м, автомоб...|    4999| 4999|40802810147180000076|     Ф|     -|    4999| 4999|40802810147180000076|     Ф|     -|\n",
      "|       10|     5008|2020-11-02|  1.00|     RUB|а/м, а\\м, автомоб...|      10|   10|40802810400020001097|     Ю|   ООО|    5008| 5008|40802810610450000337|     Ю|   ПАО|\n",
      "|       10|     5008|2020-11-02|  1.00|     RUB|а/м, а\\м, автомоб...|    5008| 5008|40802810610450000337|     Ю|   ПАО|    5008| 5008|40802810610450000337|     Ю|   ПАО|\n",
      "|        9|     5007|2020-11-01|  9.00|      EU|торгвыруч, оплату...|       9|    9|40802810905030000004|     Ф|     -|    5007| 5007|40702810320640000569|     Ф|     -|\n",
      "|        9|     5007|2020-11-01|  9.00|      EU|торгвыруч, оплату...|    5007| 5007|40702810320640000569|     Ф|     -|    5007| 5007|40702810320640000569|     Ф|     -|\n",
      "|        7|     5005|2020-11-03|  7.00|     RUB|хоз, бытхим, подг...|       7|    7|40702810823620000031|     Ф|     -|    5005| 5005|40702810120240000822|     Ф|     -|\n",
      "|        7|     5005|2020-11-03|  7.00|     RUB|хоз, бытхим, подг...|    5005| 5005|40702810120240000822|     Ф|     -|    5005| 5005|40702810120240000822|     Ф|     -|\n",
      "|       11|     5009|2020-11-03| 11.00|     USD| сою, соя, зерно,...|      11|   11|40702810717060008427|     Ф|     -|    5009| 5009|40802810120070000329|     Ф|     -|\n",
      "|        4|     5002|2020-11-04|  4.00|     RUB|гсм, бензин, керо...|       4|    4|40802810800000030701|     Ю|    ИП|    5002| 5002|40702810520020000052|     Ю|   ООО|\n",
      "+---------+---------+----------+------+--------+--------------------+--------+-----+--------------------+------+------+--------+-----+--------------------+------+------+\n",
      "only showing top 20 rows\n",
      "\n"
     ]
    }
   ],
   "source": [
    "clientsAndAccountsOp.show()"
   ]
  },
  {
   "cell_type": "code",
   "execution_count": 34,
   "id": "4ce0d9dc",
   "metadata": {},
   "outputs": [
    {
     "name": "stdout",
     "output_type": "stream",
     "text": [
      "java.lang.AssertionError: assertion failed: \n",
      "  Decimal$DecimalIsFractional\n",
      "     while compiling: <console>\n",
      "        during phase: globalPhase=terminal, enteringPhase=jvm\n",
      "     library version: version 2.12.15\n",
      "    compiler version: version 2.12.15\n",
      "  reconstructed args: -usejavacp -classpath file:/usr/lib/jvm/java-8-openjdk-amd64/jre/lib/ext/cldrdata.jar:file:/usr/lib/jvm/java-8-openjdk-amd64/jre/lib/ext/dnsns.jar:file:/usr/lib/jvm/java-8-openjdk-amd64/jre/lib/ext/icedtea-sound.jar:file:/usr/lib/jvm/java-8-openjdk-amd64/jre/lib/ext/localedata.jar:file:/usr/lib/jvm/java-8-openjdk-amd64/jre/lib/ext/sunjce_provider.jar:file:/usr/lib/jvm/java-8-openjdk-amd64/jre/lib/ext/sunec.jar:file:/usr/lib/jvm/java-8-openjdk-amd64/jre/lib/ext/nashorn.jar:file:/usr/lib/jvm/java-8-openjdk-amd64/jre/lib/ext/jaccess.jar:file:/usr/lib/jvm/java-8-openjdk-amd64/jre/lib/ext/sunpkcs11.jar:file:/usr/lib/jvm/java-8-openjdk-amd64/jre/lib/ext/zipfs.jar:file:/opt/spark-3.3.1-bin-hadoop3/conf/:file:/opt/spark-3.3.1-bin-hadoop3/jars/spark-network-common_2.12-3.3.1.jar:file:/opt/spark-3.3.1-bin-hadoop3/jars/kubernetes-model-node-5.12.2.jar:file:/opt/spark-3.3.1-bin-hadoop3/jars/zookeeper-jute-3.6.2.jar:file:/opt/spark-3.3.1-bin-hadoop3/jars/ST4-4.0.4.jar:file:/opt/spark-3.3.1-bin-hadoop3/jars/netty-transport-4.1.74.Final.jar:file:/opt/spark-3.3.1-bin-hadoop3/jars/httpcore-4.4.14.jar:file:/opt/spark-3.3.1-bin-hadoop3/jars/netty-transport-native-epoll-4.1.74.Final-linux-x86_64.jar:file:/opt/spark-3.3.1-bin-hadoop3/jars/commons-compiler-3.0.16.jar:file:/opt/spark-3.3.1-bin-hadoop3/jars/libfb303-0.9.3.jar:file:/opt/spark-3.3.1-bin-hadoop3/jars/guava-14.0.1.jar:file:/opt/spark-3.3.1-bin-hadoop3/jars/spire_2.12-0.17.0.jar:file:/opt/spark-3.3.1-bin-hadoop3/jars/log4j-1.2-api-2.17.2.jar:file:/opt/spark-3.3.1-bin-hadoop3/jars/spire-platform_2.12-0.17.0.jar:file:/opt/spark-3.3.1-bin-hadoop3/jars/arpack_combined_all-0.1.jar:file:/opt/spark-3.3.1-bin-hadoop3/jars/datanucleus-api-jdo-4.2.4.jar:file:/opt/spark-3.3.1-bin-hadoop3/jars/hive-storage-api-2.7.2.jar:file:/opt/spark-3.3.1-bin-hadoop3/jars/generex-1.0.2.jar:file:/opt/spark-3.3.1-bin-hadoop3/jars/kubernetes-model-admissionregistration-5.12.2.jar:file:/opt/spark-3.3.1-bin-hadoop3/jars/avro-1.11.0.jar:file:/opt/spark-3.3.1-bin-hadoop3/jars/jackson-annotations-2.13.4.jar:file:/opt/spark-3.3.1-bin-hadoop3/jars/xz-1.8.jar:file:/opt/spark-3.3.1-bin-hadoop3/jars/kubernetes-model-events-5.12.2.jar:file:/opt/spark-3.3.1-bin-hadoop3/jars/json4s-jackson_2.12-3.7.0-M11.jar:file:/opt/spark-3.3.1-bin-hadoop3/jars/jackson-dataformat-yaml-2.13.4.jar:file:/opt/spark-3.3.1-bin-hadoop3/jars/chill_2.12-0.10.0.jar:file:/opt/spark-3.3.1-bin-hadoop3/jars/istack-commons-runtime-3.0.8.jar:file:/opt/spark-3.3.1-bin-hadoop3/jars/slf4j-api-1.7.32.jar:file:/opt/spark-3.3.1-bin-hadoop3/jars/jersey-client-2.36.jar:file:/opt/spark-3.3.1-bin-hadoop3/jars/jdo-api-3.0.1.jar:file:/opt/spark-3.3.1-bin-hadoop3/jars/jackson-datatype-jsr310-2.13.4.jar:file:/opt/spark-3.3.1-bin-hadoop3/jars/spark-launcher_2.12-3.3.1.jar:file:/opt/spark-3.3.1-bin-hadoop3/jars/netty-transport-native-kqueue-4.1.74.Final-osx-x86_64.jar:file:/opt/spark-3.3.1-bin-hadoop3/jars/curator-recipes-2.13.0.jar:file:/opt/spark-3.3.1-bin-hadoop3/jars/janino-3.0.16.jar:file:/opt/spark-3.3.1-bin-hadoop3/jars/zjsonpatch-0.3.0.jar:file:/opt/spark-3.3.1-bin-hadoop3/jars/dropwizard-metrics-hadoop-metrics2-reporter-0.1.2.jar:file:/opt/spark-3.3.1-bin-hadoop3/jars/netty-buffer-4.1.74.Final.jar:file:/opt/spark-3.3.1-bin-hadoop3/jars/spark-mesos_2.12-3.3.1.jar:file:/opt/spark-3.3.1-bin-hadoop3/jars/hk2-locator-2.6.1.jar:file:/opt/spark-3.3.1-bin-hadoop3/jars/spark-graphx_2.12-3.3.1.jar:file:/opt/spark-3.3.1-bin-hadoop3/jars/snakeyaml-1.31.jar:file:/opt/spark-3.3.1-bin-hadoop3/jars/transaction-api-1.1.jar:file:/opt/spark-3.3.1-bin-hadoop3/jars/orc-core-1.7.6.jar:file:/opt/spark-3.3.1-bin-hadoop3/jars/automaton-1.11-8.jar:file:/opt/spark-3.3.1-bin-hadoop3/jars/jersey-container-servlet-core-2.36.jar:file:/opt/spark-3.3.1-bin-hadoop3/jars/netty-handler-4.1.74.Final.jar:file:/opt/spark-3.3.1-bin-hadoop3/jars/JTransforms-3.1.jar:file:/opt/spark-3.3.1-bin-hadoop3/jars/netty-transport-native-epoll-4.1.74.Final-linux-aarch_64.jar:file:/opt/spark-3.3.1-bin-hadoop3/jars/jakarta.servlet-api-4.0.3.jar:file:/opt/spark-3.3.1-bin-hadoop3/jars/arpack-2.2.1.jar:file:/opt/spark-3.3.1-bin-hadoop3/jars/joda-time-2.10.13.jar:file:/opt/spark-3.3.1-bin-hadoop3/jars/hadoop-yarn-server-web-proxy-3.3.2.jar:file:/opt/spark-3.3.1-bin-hadoop3/jars/arrow-memory-core-7.0.0.jar:file:/opt/spark-3.3.1-bin-hadoop3/jars/spark-mllib-local_2.12-3.3.1.jar:file:/opt/spark-3.3.1-bin-hadoop3/jars/kubernetes-model-policy-5.12.2.jar:file:/opt/spark-3.3.1-bin-hadoop3/jars/commons-logging-1.1.3.jar:file:/opt/spark-3.3.1-bin-hadoop3/jars/jta-1.1.jar:file:/opt/spark-3.3.1-bin-hadoop3/jars/curator-framework-2.13.0.jar:file:/opt/spark-3.3.1-bin-hadoop3/jars/parquet-column-1.12.2.jar:file:/opt/spark-3.3.1-bin-hadoop3/jars/hive-common-2.3.9.jar:file:/opt/spark-3.3.1-bin-hadoop3/jars/hive-shims-2.3.9.jar:file:/opt/spark-3.3.1-bin-hadoop3/jars/metrics-graphite-4.2.7.jar:file:/opt/spark-3.3.1-bin-hadoop3/jars/log4j-slf4j-impl-2.17.2.jar:file:/opt/spark-3.3.1-bin-hadoop3/jars/scala-xml_2.12-1.2.0.jar:file:/opt/spark-3.3.1-bin-hadoop3/jars/scala-library-2.12.15.jar:file:/opt/spark-3.3.1-bin-hadoop3/jars/snappy-java-1.1.8.4.jar:file:/opt/spark-3.3.1-bin-hadoop3/jars/mesos-1.4.3-shaded-protobuf.jar:file:/opt/spark-3.3.1-bin-hadoop3/jars/breeze_2.12-1.2.jar:file:/opt/spark-3.3.1-bin-hadoop3/jars/spark-streaming_2.12-3.3.1.jar:file:/opt/spark-3.3.1-bin-hadoop3/jars/opencsv-2.3.jar:file:/opt/spark-3.3.1-bin-hadoop3/jars/metrics-jvm-4.2.7.jar:file:/opt/spark-3.3.1-bin-hadoop3/jars/datanucleus-core-4.1.17.jar:file:/opt/spark-3.3.1-bin-hadoop3/jars/spark-kubernetes_2.12-3.3.1.jar:file:/opt/spark-3.3.1-bin-hadoop3/jars/zookeeper-3.6.2.jar:file:/opt/spark-3.3.1-bin-hadoop3/jars/tink-1.6.1.jar:file:/opt/spark-3.3.1-bin-hadoop3/jars/jakarta.inject-2.6.1.jar:file:/opt/spark-3.3.1-bin-hadoop3/jars/aopalliance-repackaged-2.6.1.jar:file:/opt/spark-3.3.1-bin-hadoop3/jars/kryo-shaded-4.0.2.jar:file:/opt/spark-3.3.1-bin-hadoop3/jars/jersey-common-2.36.jar:file:/opt/spark-3.3.1-bin-hadoop3/jars/logging-interceptor-3.12.12.jar:file:/opt/spark-3.3.1-bin-hadoop3/jars/scala-parser-combinators_2.12-1.1.2.jar:file:/opt/spark-3.3.1-bin-hadoop3/jars/spire-util_2.12-0.17.0.jar:file:/opt/spark-3.3.1-bin-hadoop3/jars/parquet-encoding-1.12.2.jar:file:/opt/spark-3.3.1-bin-hadoop3/jars/json-1.8.jar:file:/opt/spark-3.3.1-bin-hadoop3/jars/jaxb-runtime-2.3.2.jar:file:/opt/spark-3.3.1-bin-hadoop3/jars/jackson-mapper-asl-1.9.13.jar:file:/opt/spark-3.3.1-bin-hadoop3/jars/hadoop-client-api-3.3.2.jar:file:/opt/spark-3.3.1-bin-hadoop3/jars/parquet-hadoop-1.12.2.jar:file:/opt/spark-3.3.1-bin-hadoop3/jars/log4j-core-2.17.2.jar:file:/opt/spark-3.3.1-bin-hadoop3/jars/kubernetes-model-certificates-5.12.2.jar:file:/opt/spark-3.3.1-bin-hadoop3/jars/kubernetes-model-apiextensions-5.12.2.jar:file:/opt/spark-3.3.1-bin-hadoop3/jars/super-csv-2.2.0.jar:file:/opt/spark-3.3.1-bin-hadoop3/jars/protobuf-java-2.5.0.jar:file:/opt/spark-3.3.1-bin-hadoop3/jars/stax-api-1.0.1.jar:file:/opt/spark-3.3.1-bin-hadoop3/jars/lz4-java-1.8.0.jar:file:/opt/spark-3.3.1-bin-hadoop3/jars/spire-macros_2.12-0.17.0.jar:file:/opt/spark-3.3.1-bin-hadoop3/jars/hive-jdbc-2.3.9.jar:file:/opt/spark-3.3.1-bin-hadoop3/jars/flatbuffers-java-1.12.0.jar:file:/opt/spark-3.3.1-bin-hadoop3/jars/jul-to-slf4j-1.7.32.jar:file:/opt/spark-3.3.1-bin-hadoop3/jars/spark-kvstore_2.12-3.3.1.jar:file:/opt/spark-3.3.1-bin-hadoop3/jars/jodd-core-3.5.2.jar:file:/opt/spark-3.3.1-bin-hadoop3/jars/kubernetes-model-core-5.12.2.jar:file:/opt/spark-3.3.1-bin-hadoop3/jars/audience-annotations-0.5.0.jar:file:/opt/spark-3.3.1-bin-hadoop3/jars/json4s-core_2.12-3.7.0-M11.jar:file:/opt/spark-3.3.1-bin-hadoop3/jars/parquet-format-structures-1.12.2.jar:file:/opt/spark-3.3.1-bin-hadoop3/jars/kubernetes-model-networking-5.12.2.jar:file:/opt/spark-3.3.1-bin-hadoop3/jars/commons-lang-2.6.jar:file:/opt/spark-3.3.1-bin-hadoop3/jars/minlog-1.3.0.jar:file:/opt/spark-3.3.1-bin-hadoop3/jars/hk2-utils-2.6.1.jar:file:/opt/spark-3.3.1-bin-hadoop3/jars/avro-ipc-1.11.0.jar:file:/opt/spark-3.3.1-bin-hadoop3/jars/parquet-jackson-1.12.2.jar:file:/opt/spark-3.3.1-bin-hadoop3/jars/kubernetes-model-discovery-5.12.2.jar:file:/opt/spark-3.3.1-bin-hadoop3/jars/jcl-over-slf4j-1.7.32.jar:file:/opt/spark-3.3.1-bin-hadoop3/jars/hive-service-rpc-3.1.2.jar:file:/opt/spark-3.3.1-bin-hadoop3/jars/hadoop-shaded-guava-1.1.1.jar:file:/opt/spark-3.3.1-bin-hadoop3/jars/netty-common-4.1.74.Final.jar:file:/opt/spark-3.3.1-bin-hadoop3/jars/spark-tags_2.12-3.3.1-tests.jar:file:/opt/spark-3.3.1-bin-hadoop3/jars/gson-2.2.4.jar:file:/opt/spark-3.3.1-bin-hadoop3/jars/orc-shims-1.7.6.jar:file:/opt/spark-3.3.1-bin-hadoop3/jars/metrics-json-4.2.7.jar:file:/opt/spark-3.3.1-bin-hadoop3/jars/jakarta.annotation-api-1.3.5.jar:file:/opt/spark-3.3.1-bin-hadoop3/jars/jersey-server-2.36.jar:file:/opt/spark-3.3.1-bin-hadoop3/jars/kubernetes-model-flowcontrol-5.12.2.jar:file:/opt/spark-3.3.1-bin-hadoop3/jars/hive-shims-0.23-2.3.9.jar:file:/opt/spark-3.3.1-bin-hadoop3/jars/netty-transport-native-kqueue-4.1.74.Final-osx-aarch_64.jar:file:/opt/spark-3.3.1-bin-hadoop3/jars/xbean-asm9-shaded-4.20.jar:file:/opt/spark-3.3.1-bin-hadoop3/jars/jersey-container-servlet-2.36.jar:file:/opt/spark-3.3.1-bin-hadoop3/jars/kubernetes-model-storageclass-5.12.2.jar:file:/opt/spark-3.3.1-bin-hadoop3/jars/HikariCP-2.5.1.jar:file:/opt/spark-3.3.1-bin-hadoop3/jars/hive-beeline-2.3.9.jar:file:/opt/spark-3.3.1-bin-hadoop3/jars/shapeless_2.12-2.3.7.jar:file:/opt/spark-3.3.1-bin-hadoop3/jars/threeten-extra-1.5.0.jar:file:/opt/spark-3.3.1-bin-hadoop3/jars/rocksdbjni-6.20.3.jar:file:/opt/spark-3.3.1-bin-hadoop3/jars/hive-serde-2.3.9.jar:file:/opt/spark-3.3.1-bin-hadoop3/jars/netty-tcnative-classes-2.0.48.Final.jar:file:/opt/spark-3.3.1-bin-hadoop3/jars/orc-mapreduce-1.7.6.jar:file:/opt/spark-3.3.1-bin-hadoop3/jars/antlr4-runtime-4.8.jar:file:/opt/spark-3.3.1-bin-hadoop3/jars/commons-compress-1.21.jar:file:/opt/spark-3.3.1-bin-hadoop3/jars/antlr-runtime-3.5.2.jar:file:/opt/spark-3.3.1-bin-hadoop3/jars/scala-compiler-2.12.15.jar:file:/opt/spark-3.3.1-bin-hadoop3/jars/hive-vector-code-gen-2.3.9.jar:file:/opt/spark-3.3.1-bin-hadoop3/jars/pickle-1.2.jar:file:/opt/spark-3.3.1-bin-hadoop3/jars/hive-shims-common-2.3.9.jar:file:/opt/spark-3.3.1-bin-hadoop3/jars/spark-hive_2.12-3.3.1.jar:file:/opt/spark-3.3.1-bin-hadoop3/jars/netty-codec-4.1.74.Final.jar:file:/opt/spark-3.3.1-bin-hadoop3/jars/spark-unsafe_2.12-3.3.1.jar:file:/opt/spark-3.3.1-bin-hadoop3/jars/javassist-3.25.0-GA.jar:file:/opt/spark-3.3.1-bin-hadoop3/jars/bonecp-0.8.0.RELEASE.jar:file:/opt/spark-3.3.1-bin-hadoop3/jars/okhttp-3.12.12.jar:file:/opt/spark-3.3.1-bin-hadoop3/jars/javax.jdo-3.2.0-m3.jar:file:/opt/spark-3.3.1-bin-hadoop3/jars/breeze-macros_2.12-1.2.jar:file:/opt/spark-3.3.1-bin-hadoop3/jars/commons-codec-1.15.jar:file:/opt/spark-3.3.1-bin-hadoop3/jars/spark-yarn_2.12-3.3.1.jar:file:/opt/spark-3.3.1-bin-hadoop3/jars/kubernetes-model-metrics-5.12.2.jar:file:/opt/spark-3.3.1-bin-hadoop3/jars/stream-2.9.6.jar:file:/opt/spark-3.3.1-bin-hadoop3/jars/blas-2.2.1.jar:file:/opt/spark-3.3.1-bin-hadoop3/jars/commons-lang3-3.12.0.jar:file:/opt/spark-3.3.1-bin-hadoop3/jars/commons-cli-1.5.0.jar:file:/opt/spark-3.3.1-bin-hadoop3/jars/spark-hive-thriftserver_2.12-3.3.1.jar:file:/opt/spark-3.3.1-bin-hadoop3/jars/spark-core_2.12-3.3.1.jar:file:/opt/spark-3.3.1-bin-hadoop3/jars/commons-pool-1.5.4.jar:file:/opt/spark-3.3.1-bin-hadoop3/jars/kubernetes-model-coordination-5.12.2.jar:file:/opt/spark-3.3.1-bin-hadoop3/jars/activation-1.1.1.jar:file:/opt/spark-3.3.1-bin-hadoop3/jars/netty-all-4.1.74.Final.jar:file:/opt/spark-3.3.1-bin-hadoop3/jars/compress-lzf-1.1.jar:file:/opt/spark-3.3.1-bin-hadoop3/jars/univocity-parsers-2.9.1.jar:file:/opt/spark-3.3.1-bin-hadoop3/jars/jakarta.validation-api-2.0.2.jar:file:/opt/spark-3.3.1-bin-hadoop3/jars/metrics-core-4.2.7.jar:file:/opt/spark-3.3.1-bin-hadoop3/jars/algebra_2.12-2.0.1.jar:file:/opt/spark-3.3.1-bin-hadoop3/jars/jsr305-3.0.0.jar:file:/opt/spark-3.3.1-bin-hadoop3/jars/netty-transport-native-unix-common-4.1.74.Final.jar:file:/opt/spark-3.3.1-bin-hadoop3/jars/commons-crypto-1.1.0.jar:file:/opt/spark-3.3.1-bin-hadoop3/jars/py4j-0.10.9.5.jar:file:/opt/spark-3.3.1-bin-hadoop3/jars/metrics-jmx-4.2.7.jar:file:/opt/spark-3.3.1-bin-hadoop3/jars/ivy-2.5.0.jar:file:/opt/spark-3.3.1-bin-hadoop3/jars/jersey-hk2-2.36.jar:file:/opt/spark-3.3.1-bin-hadoop3/jars/scala-collection-compat_2.12-2.1.1.jar:file:/opt/spark-3.3.1-bin-hadoop3/jars/hive-exec-2.3.9-core.jar:file:/opt/spark-3.3.1-bin-hadoop3/jars/kubernetes-model-rbac-5.12.2.jar:file:/opt/spark-3.3.1-bin-hadoop3/jars/jackson-databind-2.13.4.1.jar:file:/opt/spark-3.3.1-bin-hadoop3/jars/core-1.1.2.jar:file:/opt/spark-3.3.1-bin-hadoop3/jars/commons-dbcp-1.4.jar:file:/opt/spark-3.3.1-bin-hadoop3/jars/hive-cli-2.3.9.jar:file:/opt/spark-3.3.1-bin-hadoop3/jars/httpclient-4.5.13.jar:file:/opt/spark-3.3.1-bin-hadoop3/jars/hive-llap-common-2.3.9.jar:file:/opt/spark-3.3.1-bin-hadoop3/jars/hive-shims-scheduler-2.3.9.jar:file:/opt/spark-3.3.1-bin-hadoop3/jars/aircompressor-0.21.jar:file:/opt/spark-3.3.1-bin-hadoop3/jars/javolution-5.5.1.jar:file:/opt/spark-3.3.1-bin-hadoop3/jars/kubernetes-client-5.12.2.jar:file:/opt/spark-3.3.1-bin-hadoop3/jars/velocity-1.5.jar:file:/opt/spark-3.3.1-bin-hadoop3/jars/kubernetes-model-batch-5.12.2.jar:file:/opt/spark-3.3.1-bin-hadoop3/jars/kubernetes-model-apps-5.12.2.jar:file:/opt/spark-3.3.1-bin-hadoop3/jars/kubernetes-model-scheduling-5.12.2.jar:file:/opt/spark-3.3.1-bin-hadoop3/jars/spark-mllib_2.12-3.3.1.jar:file:/opt/spark-3.3.1-bin-hadoop3/jars/curator-client-2.13.0.jar:file:/opt/spark-3.3.1-bin-hadoop3/jars/arrow-format-7.0.0.jar:file:/opt/spark-3.3.1-bin-hadoop3/jars/hk2-api-2.6.1.jar:file:/opt/spark-3.3.1-bin-hadoop3/jars/arrow-vector-7.0.0.jar:file:/opt/spark-3.3.1-bin-hadoop3/jars/kubernetes-model-autoscaling-5.12.2.jar:file:/opt/spark-3.3.1-bin-hadoop3/jars/spark-sketch_2.12-3.3.1.jar:file:/opt/spark-3.3.1-bin-hadoop3/jars/kubernetes-model-common-5.12.2.jar:file:/opt/spark-3.3.1-bin-hadoop3/jars/derby-10.14.2.0.jar:file:/opt/spark-3.3.1-bin-hadoop3/jars/parquet-common-1.12.2.jar:file:/opt/spark-3.3.1-bin-hadoop3/jars/lapack-2.2.1.jar:file:/opt/spark-3.3.1-bin-hadoop3/jars/commons-collections4-4.4.jar:file:/opt/spark-3.3.1-bin-hadoop3/jars/shims-0.9.25.jar:file:/opt/spark-3.3.1-bin-hadoop3/jars/netty-transport-classes-epoll-4.1.74.Final.jar:file:/opt/spark-3.3.1-bin-hadoop3/jars/arrow-memory-netty-7.0.0.jar:file:/opt/spark-3.3.1-bin-hadoop3/jars/annotations-17.0.0.jar:file:/opt/spark-3.3.1-bin-hadoop3/jars/spark-sql_2.12-3.3.1.jar:file:/opt/spark-3.3.1-bin-hadoop3/jars/commons-text-1.9.jar:file:/opt/spark-3.3.1-bin-hadoop3/jars/netty-transport-classes-kqueue-4.1.74.Final.jar:file:/opt/spark-3.3.1-bin-hadoop3/jars/JLargeArrays-1.5.jar:file:/opt/spark-3.3.1-bin-hadoop3/jars/oro-2.0.8.jar:file:/opt/spark-3.3.1-bin-hadoop3/jars/spark-catalyst_2.12-3.3.1.jar:file:/opt/spark-3.3.1-bin-hadoop3/jars/hadoop-client-runtime-3.3.2.jar:file:/opt/spark-3.3.1-bin-hadoop3/jars/avro-mapred-1.11.0.jar:file:/opt/spark-3.3.1-bin-hadoop3/jars/spark-repl_2.12-3.3.1.jar:file:/opt/spark-3.3.1-bin-hadoop3/jars/RoaringBitmap-0.9.25.jar:file:/opt/spark-3.3.1-bin-hadoop3/jars/okio-1.14.0.jar:file:/opt/spark-3.3.1-bin-hadoop3/jars/jackson-core-asl-1.9.13.jar:file:/opt/spark-3.3.1-bin-hadoop3/jars/postgresql-42.5.1.jar:file:/opt/spark-3.3.1-bin-hadoop3/jars/commons-io-2.11.0.jar:file:/opt/spark-3.3.1-bin-hadoop3/jars/datanucleus-rdbms-4.1.19.jar:file:/opt/spark-3.3.1-bin-hadoop3/jars/objenesis-3.2.jar:file:/opt/spark-3.3.1-bin-hadoop3/jars/jackson-core-2.13.4.jar:file:/opt/spark-3.3.1-bin-hadoop3/jars/osgi-resource-locator-1.0.3.jar:file:/opt/spark-3.3.1-bin-hadoop3/jars/spark-network-shuffle_2.12-3.3.1.jar:file:/opt/spark-3.3.1-bin-hadoop3/jars/json4s-ast_2.12-3.7.0-M11.jar:file:/opt/spark-3.3.1-bin-hadoop3/jars/chill-java-0.10.0.jar:file:/opt/spark-3.3.1-bin-hadoop3/jars/log4j-api-2.17.2.jar:file:/opt/spark-3.3.1-bin-hadoop3/jars/commons-math3-3.6.1.jar:file:/opt/spark-3.3.1-bin-hadoop3/jars/spark-tags_2.12-3.3.1.jar:file:/opt/spark-3.3.1-bin-hadoop3/jars/zstd-jni-1.5.2-1.jar:file:/opt/spark-3.3.1-bin-hadoop3/jars/scala-reflect-2.12.15.jar:file:/opt/spark-3.3.1-bin-hadoop3/jars/jakarta.ws.rs-api-2.1.6.jar:file:/opt/spark-3.3.1-bin-hadoop3/jars/cats-kernel_2.12-2.1.1.jar:file:/opt/spark-3.3.1-bin-hadoop3/jars/paranamer-2.8.jar:file:/opt/spark-3.3.1-bin-hadoop3/jars/libthrift-0.12.0.jar:file:/opt/spark-3.3.1-bin-hadoop3/jars/leveldbjni-all-1.8.jar:file:/opt/spark-3.3.1-bin-hadoop3/jars/kubernetes-model-extensions-5.12.2.jar:file:/opt/spark-3.3.1-bin-hadoop3/jars/jackson-module-scala_2.12-2.13.4.jar:file:/opt/spark-3.3.1-bin-hadoop3/jars/netty-resolver-4.1.74.Final.jar:file:/opt/spark-3.3.1-bin-hadoop3/jars/hive-metastore-2.3.9.jar:file:/opt/spark-3.3.1-bin-hadoop3/jars/json4s-scalap_2.12-3.7.0-M11.jar:file:/opt/spark-3.3.1-bin-hadoop3/jars/commons-collections-3.2.2.jar:file:/opt/spark-3.3.1-bin-hadoop3/jars/jakarta.xml.bind-api-2.3.2.jar:file:/opt/spark-3.3.1-bin-hadoop3/jars/jpam-1.1.jar:file:/opt/spark-3.3.1-bin-hadoop3/jars/jline-2.14.6.jar:file:/usr/local/share/jupyter/kernels/apache_toree_scala/lib/toree-assembly-0.5.0-incubating.jar -Yrepl-class-based -Yrepl-outdir /tmp/spark-49956acf-82b5-4e2c-b513-faef0db60f2c/repl-c2b59c14-3cf5-4e66-9f4b-b072c3b8d411\n",
      "\n",
      "  last tree to typer: TypeTree(class Byte)\n",
      "       tree position: line 6 of <console>\n",
      "            tree tpe: Byte\n",
      "              symbol: (final abstract) class Byte in package scala\n",
      "   symbol definition: final abstract class Byte extends  (a ClassSymbol)\n",
      "      symbol package: scala\n",
      "       symbol owners: class Byte\n",
      "           call site: constructor $eval in object $eval in package $line73\n",
      "\n",
      "== Source file context for tree position ==\n",
      "\n",
      "     3 \n",
      "     4 object $eval {\n",
      "     5   lazy val $result = $line73.$read.INSTANCE.$iw.$iw.$iw.$iw.$iw.$iw.$iw.$iw.res16\n",
      "     6   lazy val $print: _root_.java.lang.String =  {\n",
      "     7     $line73.$read.INSTANCE.$iw.$iw.$iw.$iw.$iw.$iw.$iw.$iw\n",
      "     8       \n",
      "     9 val sb = new _root_.scala.StringBuilder\n",
      "\tat scala.reflect.internal.SymbolTable.throwAssertionError(SymbolTable.scala:185)\n",
      "\tat scala.reflect.internal.Symbols$Symbol.completeInfo(Symbols.scala:1525)\n",
      "\tat scala.reflect.internal.Symbols$Symbol.info(Symbols.scala:1514)\n",
      "\tat scala.reflect.internal.Symbols$Symbol.flatOwnerInfo(Symbols.scala:2353)\n",
      "\tat scala.reflect.internal.Symbols$ClassSymbol.companionModule0(Symbols.scala:3346)\n",
      "\tat scala.reflect.internal.Symbols$ClassSymbol.companionModule(Symbols.scala:3348)\n",
      "\tat scala.reflect.internal.Symbols$ModuleClassSymbol.sourceModule(Symbols.scala:3487)\n",
      "\tat scala.reflect.internal.Symbols.$anonfun$forEachRelevantSymbols$1$adapted(Symbols.scala:3802)\n",
      "\tat scala.collection.IndexedSeqOptimized.foreach(IndexedSeqOptimized.scala:36)\n",
      "\tat scala.collection.IndexedSeqOptimized.foreach$(IndexedSeqOptimized.scala:33)\n",
      "\tat scala.collection.mutable.WrappedArray.foreach(WrappedArray.scala:38)\n",
      "\tat scala.reflect.internal.Symbols.markFlagsCompleted(Symbols.scala:3799)\n",
      "\tat scala.reflect.internal.Symbols.markFlagsCompleted$(Symbols.scala:3805)\n",
      "\tat scala.reflect.internal.SymbolTable.markFlagsCompleted(SymbolTable.scala:28)\n",
      "\tat scala.reflect.internal.pickling.UnPickler$Scan.finishSym$1(UnPickler.scala:324)\n",
      "\tat scala.reflect.internal.pickling.UnPickler$Scan.readSymbol(UnPickler.scala:342)\n",
      "\tat scala.reflect.internal.pickling.UnPickler$Scan.readSymbolRef(UnPickler.scala:645)\n",
      "\tat scala.reflect.internal.pickling.UnPickler$Scan.readType(UnPickler.scala:413)\n",
      "\tat scala.reflect.internal.pickling.UnPickler$Scan.$anonfun$readSymbol$10(UnPickler.scala:357)\n",
      "\tat scala.reflect.internal.pickling.UnPickler$Scan.at(UnPickler.scala:188)\n",
      "\tat scala.reflect.internal.pickling.UnPickler$Scan.readSymbol(UnPickler.scala:357)\n",
      "\tat scala.reflect.internal.pickling.UnPickler$Scan.$anonfun$run$1(UnPickler.scala:96)\n",
      "\tat scala.reflect.internal.pickling.UnPickler$Scan.run(UnPickler.scala:88)\n",
      "\tat scala.reflect.internal.pickling.UnPickler.unpickle(UnPickler.scala:47)\n",
      "\tat scala.tools.nsc.symtab.classfile.ClassfileParser.unpickleOrParseInnerClasses(ClassfileParser.scala:1186)\n",
      "\tat scala.tools.nsc.symtab.classfile.ClassfileParser.parseClass(ClassfileParser.scala:468)\n",
      "\tat scala.tools.nsc.symtab.classfile.ClassfileParser.$anonfun$parse$2(ClassfileParser.scala:161)\n",
      "\tat scala.tools.nsc.symtab.classfile.ClassfileParser.$anonfun$parse$1(ClassfileParser.scala:147)\n",
      "\tat scala.tools.nsc.symtab.classfile.ClassfileParser.parse(ClassfileParser.scala:130)\n",
      "\tat scala.tools.nsc.symtab.SymbolLoaders$ClassfileLoader.doComplete(SymbolLoaders.scala:343)\n",
      "\tat scala.tools.nsc.symtab.SymbolLoaders$SymbolLoader.complete(SymbolLoaders.scala:250)\n",
      "\tat scala.tools.nsc.symtab.SymbolLoaders$SymbolLoader.load(SymbolLoaders.scala:269)\n",
      "\tat scala.reflect.internal.Symbols$Symbol.exists(Symbols.scala:1104)\n",
      "\tat scala.reflect.internal.Symbols$Symbol.toOption(Symbols.scala:2609)\n",
      "\tat scala.tools.nsc.interpreter.IMain.translateSimpleResource(IMain.scala:340)\n",
      "\tat scala.tools.nsc.interpreter.IMain$TranslatingClassLoader.findAbstractFile(IMain.scala:354)\n",
      "\tat scala.reflect.internal.util.AbstractFileClassLoader.findResource(AbstractFileClassLoader.scala:76)\n",
      "\tat java.lang.ClassLoader.getResource(ClassLoader.java:1089)\n",
      "\tat java.lang.ClassLoader.getResourceAsStream(ClassLoader.java:1300)\n",
      "\tat scala.reflect.internal.util.RichClassLoader$.classAsStream$extension(ScalaClassLoader.scala:89)\n",
      "\tat scala.reflect.internal.util.RichClassLoader$.classBytes$extension(ScalaClassLoader.scala:81)\n",
      "\tat scala.reflect.internal.util.ScalaClassLoader.classBytes(ScalaClassLoader.scala:131)\n",
      "\tat scala.reflect.internal.util.ScalaClassLoader.classBytes$(ScalaClassLoader.scala:131)\n",
      "\tat scala.reflect.internal.util.AbstractFileClassLoader.classBytes(AbstractFileClassLoader.scala:41)\n",
      "\tat scala.reflect.internal.util.AbstractFileClassLoader.findClass(AbstractFileClassLoader.scala:70)\n",
      "\tat java.lang.ClassLoader.loadClass(ClassLoader.java:418)\n",
      "\tat java.lang.ClassLoader.loadClass(ClassLoader.java:405)\n",
      "\tat org.apache.spark.util.ParentClassLoader.loadClass(ParentClassLoader.java:40)\n",
      "\tat java.lang.ClassLoader.loadClass(ClassLoader.java:351)\n",
      "\tat java.lang.Class.forName0(Native Method)\n",
      "\tat java.lang.Class.forName(Class.java:348)\n",
      "\tat org.codehaus.janino.ClassLoaderIClassLoader.findIClass(ClassLoaderIClassLoader.java:89)\n",
      "\tat org.codehaus.janino.IClassLoader.loadIClass(IClassLoader.java:317)\n",
      "\tat org.codehaus.janino.UnitCompiler.findTypeByName(UnitCompiler.java:8618)\n",
      "\tat org.codehaus.janino.UnitCompiler.reclassifyName(UnitCompiler.java:8838)\n",
      "\tat org.codehaus.janino.UnitCompiler.reclassifyName(UnitCompiler.java:8529)\n",
      "\tat org.codehaus.janino.UnitCompiler.reclassify(UnitCompiler.java:8388)\n",
      "\tat org.codehaus.janino.UnitCompiler.getType2(UnitCompiler.java:6900)\n",
      "\tat org.codehaus.janino.UnitCompiler.access$14600(UnitCompiler.java:226)\n",
      "\tat org.codehaus.janino.UnitCompiler$22$2$1.visitAmbiguousName(UnitCompiler.java:6518)\n",
      "\tat org.codehaus.janino.UnitCompiler$22$2$1.visitAmbiguousName(UnitCompiler.java:6515)\n",
      "\tat org.codehaus.janino.Java$AmbiguousName.accept(Java.java:4429)\n",
      "\tat org.codehaus.janino.UnitCompiler$22$2.visitLvalue(UnitCompiler.java:6515)\n",
      "\tat org.codehaus.janino.UnitCompiler$22$2.visitLvalue(UnitCompiler.java:6511)\n",
      "\tat org.codehaus.janino.Java$Lvalue.accept(Java.java:4353)\n",
      "\tat org.codehaus.janino.UnitCompiler$22.visitRvalue(UnitCompiler.java:6511)\n",
      "\tat org.codehaus.janino.UnitCompiler$22.visitRvalue(UnitCompiler.java:6490)\n",
      "\tat org.codehaus.janino.Java$Rvalue.accept(Java.java:4321)\n",
      "\tat org.codehaus.janino.UnitCompiler.getType(UnitCompiler.java:6490)\n",
      "\tat org.codehaus.janino.UnitCompiler.findIMethod(UnitCompiler.java:9110)\n",
      "\tat org.codehaus.janino.UnitCompiler.getType2(UnitCompiler.java:7164)\n",
      "\tat org.codehaus.janino.UnitCompiler.access$16200(UnitCompiler.java:226)\n",
      "\tat org.codehaus.janino.UnitCompiler$22$2.visitMethodInvocation(UnitCompiler.java:6538)\n",
      "\tat org.codehaus.janino.UnitCompiler$22$2.visitMethodInvocation(UnitCompiler.java:6511)\n",
      "\tat org.codehaus.janino.Java$MethodInvocation.accept(Java.java:5286)\n",
      "\tat org.codehaus.janino.UnitCompiler$22.visitRvalue(UnitCompiler.java:6511)\n",
      "\tat org.codehaus.janino.UnitCompiler$22.visitRvalue(UnitCompiler.java:6490)\n",
      "\tat org.codehaus.janino.Java$Rvalue.accept(Java.java:4321)\n"
     ]
    },
    {
     "name": "stdout",
     "output_type": "stream",
     "text": [
      "\tat org.codehaus.janino.UnitCompiler.getType(UnitCompiler.java:6490)\n",
      "\tat org.codehaus.janino.UnitCompiler.findMostSpecificIInvocable(UnitCompiler.java:9306)\n",
      "\tat org.codehaus.janino.UnitCompiler.findIMethod(UnitCompiler.java:9192)\n",
      "\tat org.codehaus.janino.UnitCompiler.findIMethod(UnitCompiler.java:9110)\n",
      "\tat org.codehaus.janino.UnitCompiler.compileGet2(UnitCompiler.java:5055)\n",
      "\tat org.codehaus.janino.UnitCompiler.access$9100(UnitCompiler.java:226)\n",
      "\tat org.codehaus.janino.UnitCompiler$16.visitMethodInvocation(UnitCompiler.java:4482)\n",
      "\tat org.codehaus.janino.UnitCompiler$16.visitMethodInvocation(UnitCompiler.java:4455)\n",
      "\tat org.codehaus.janino.Java$MethodInvocation.accept(Java.java:5286)\n",
      "\tat org.codehaus.janino.UnitCompiler.compileGet(UnitCompiler.java:4455)\n",
      "\tat org.codehaus.janino.UnitCompiler.compileGetValue(UnitCompiler.java:5683)\n",
      "\tat org.codehaus.janino.UnitCompiler.compile2(UnitCompiler.java:3839)\n",
      "\tat org.codehaus.janino.UnitCompiler.access$6100(UnitCompiler.java:226)\n",
      "\tat org.codehaus.janino.UnitCompiler$13.visitAssignment(UnitCompiler.java:3799)\n",
      "\tat org.codehaus.janino.UnitCompiler$13.visitAssignment(UnitCompiler.java:3779)\n",
      "\tat org.codehaus.janino.Java$Assignment.accept(Java.java:4690)\n",
      "\tat org.codehaus.janino.UnitCompiler.compile(UnitCompiler.java:3779)\n",
      "\tat org.codehaus.janino.UnitCompiler.compile2(UnitCompiler.java:2366)\n",
      "\tat org.codehaus.janino.UnitCompiler.access$1800(UnitCompiler.java:226)\n",
      "\tat org.codehaus.janino.UnitCompiler$6.visitExpressionStatement(UnitCompiler.java:1497)\n",
      "\tat org.codehaus.janino.UnitCompiler$6.visitExpressionStatement(UnitCompiler.java:1490)\n",
      "\tat org.codehaus.janino.Java$ExpressionStatement.accept(Java.java:3064)\n",
      "\tat org.codehaus.janino.UnitCompiler.compile(UnitCompiler.java:1490)\n",
      "\tat org.codehaus.janino.UnitCompiler.compileStatements(UnitCompiler.java:1573)\n",
      "\tat org.codehaus.janino.UnitCompiler.compile2(UnitCompiler.java:1559)\n",
      "\tat org.codehaus.janino.UnitCompiler.access$1700(UnitCompiler.java:226)\n",
      "\tat org.codehaus.janino.UnitCompiler$6.visitBlock(UnitCompiler.java:1496)\n",
      "\tat org.codehaus.janino.UnitCompiler$6.visitBlock(UnitCompiler.java:1490)\n",
      "\tat org.codehaus.janino.Java$Block.accept(Java.java:2969)\n",
      "\tat org.codehaus.janino.UnitCompiler.compile(UnitCompiler.java:1490)\n",
      "\tat org.codehaus.janino.UnitCompiler.compile2(UnitCompiler.java:2486)\n",
      "\tat org.codehaus.janino.UnitCompiler.access$1900(UnitCompiler.java:226)\n",
      "\tat org.codehaus.janino.UnitCompiler$6.visitIfStatement(UnitCompiler.java:1498)\n",
      "\tat org.codehaus.janino.UnitCompiler$6.visitIfStatement(UnitCompiler.java:1490)\n",
      "\tat org.codehaus.janino.Java$IfStatement.accept(Java.java:3140)\n",
      "\tat org.codehaus.janino.UnitCompiler.compile(UnitCompiler.java:1490)\n",
      "\tat org.codehaus.janino.UnitCompiler.compileStatements(UnitCompiler.java:1573)\n",
      "\tat org.codehaus.janino.UnitCompiler.compile2(UnitCompiler.java:1559)\n",
      "\tat org.codehaus.janino.UnitCompiler.access$1700(UnitCompiler.java:226)\n",
      "\tat org.codehaus.janino.UnitCompiler$6.visitBlock(UnitCompiler.java:1496)\n",
      "\tat org.codehaus.janino.UnitCompiler$6.visitBlock(UnitCompiler.java:1490)\n",
      "\tat org.codehaus.janino.Java$Block.accept(Java.java:2969)\n",
      "\tat org.codehaus.janino.UnitCompiler.compile(UnitCompiler.java:1490)\n",
      "\tat org.codehaus.janino.UnitCompiler.compile2(UnitCompiler.java:2486)\n",
      "\tat org.codehaus.janino.UnitCompiler.access$1900(UnitCompiler.java:226)\n",
      "\tat org.codehaus.janino.UnitCompiler$6.visitIfStatement(UnitCompiler.java:1498)\n",
      "\tat org.codehaus.janino.UnitCompiler$6.visitIfStatement(UnitCompiler.java:1490)\n",
      "\tat org.codehaus.janino.Java$IfStatement.accept(Java.java:3140)\n",
      "\tat org.codehaus.janino.UnitCompiler.compile(UnitCompiler.java:1490)\n",
      "\tat org.codehaus.janino.UnitCompiler.compileStatements(UnitCompiler.java:1573)\n",
      "\tat org.codehaus.janino.UnitCompiler.compile2(UnitCompiler.java:1559)\n",
      "\tat org.codehaus.janino.UnitCompiler.access$1700(UnitCompiler.java:226)\n",
      "\tat org.codehaus.janino.UnitCompiler$6.visitBlock(UnitCompiler.java:1496)\n",
      "\tat org.codehaus.janino.UnitCompiler$6.visitBlock(UnitCompiler.java:1490)\n",
      "\tat org.codehaus.janino.Java$Block.accept(Java.java:2969)\n",
      "\tat org.codehaus.janino.UnitCompiler.compile(UnitCompiler.java:1490)\n",
      "\tat org.codehaus.janino.UnitCompiler.compile2(UnitCompiler.java:2486)\n",
      "\tat org.codehaus.janino.UnitCompiler.access$1900(UnitCompiler.java:226)\n",
      "\tat org.codehaus.janino.UnitCompiler$6.visitIfStatement(UnitCompiler.java:1498)\n",
      "\tat org.codehaus.janino.UnitCompiler$6.visitIfStatement(UnitCompiler.java:1490)\n",
      "\tat org.codehaus.janino.Java$IfStatement.accept(Java.java:3140)\n",
      "\tat org.codehaus.janino.UnitCompiler.compile(UnitCompiler.java:1490)\n",
      "\tat org.codehaus.janino.UnitCompiler.compileStatements(UnitCompiler.java:1573)\n",
      "\tat org.codehaus.janino.UnitCompiler.compile2(UnitCompiler.java:1559)\n",
      "\tat org.codehaus.janino.UnitCompiler.access$1700(UnitCompiler.java:226)\n",
      "\tat org.codehaus.janino.UnitCompiler$6.visitBlock(UnitCompiler.java:1496)\n",
      "\tat org.codehaus.janino.UnitCompiler$6.visitBlock(UnitCompiler.java:1490)\n",
      "\tat org.codehaus.janino.Java$Block.accept(Java.java:2969)\n",
      "\tat org.codehaus.janino.UnitCompiler.compile(UnitCompiler.java:1490)\n",
      "\tat org.codehaus.janino.UnitCompiler.compile2(UnitCompiler.java:2486)\n",
      "\tat org.codehaus.janino.UnitCompiler.access$1900(UnitCompiler.java:226)\n",
      "\tat org.codehaus.janino.UnitCompiler$6.visitIfStatement(UnitCompiler.java:1498)\n",
      "\tat org.codehaus.janino.UnitCompiler$6.visitIfStatement(UnitCompiler.java:1490)\n",
      "\tat org.codehaus.janino.Java$IfStatement.accept(Java.java:3140)\n",
      "\tat org.codehaus.janino.UnitCompiler.compile(UnitCompiler.java:1490)\n",
      "\tat org.codehaus.janino.UnitCompiler.compileStatements(UnitCompiler.java:1573)\n",
      "\tat org.codehaus.janino.UnitCompiler.compile2(UnitCompiler.java:1559)\n",
      "\tat org.codehaus.janino.UnitCompiler.access$1700(UnitCompiler.java:226)\n",
      "\tat org.codehaus.janino.UnitCompiler$6.visitBlock(UnitCompiler.java:1496)\n",
      "\tat org.codehaus.janino.UnitCompiler$6.visitBlock(UnitCompiler.java:1490)\n",
      "\tat org.codehaus.janino.Java$Block.accept(Java.java:2969)\n",
      "\tat org.codehaus.janino.UnitCompiler.compile(UnitCompiler.java:1490)\n",
      "\tat org.codehaus.janino.UnitCompiler.compile2(UnitCompiler.java:1661)\n",
      "\tat org.codehaus.janino.UnitCompiler.access$2000(UnitCompiler.java:226)\n",
      "\tat org.codehaus.janino.UnitCompiler$6.visitForStatement(UnitCompiler.java:1499)\n",
      "\tat org.codehaus.janino.UnitCompiler$6.visitForStatement(UnitCompiler.java:1490)\n",
      "\tat org.codehaus.janino.Java$ForStatement.accept(Java.java:3187)\n",
      "\tat org.codehaus.janino.UnitCompiler.compile(UnitCompiler.java:1490)\n",
      "\tat org.codehaus.janino.UnitCompiler.compileStatements(UnitCompiler.java:1573)\n",
      "\tat org.codehaus.janino.UnitCompiler.compile2(UnitCompiler.java:1559)\n",
      "\tat org.codehaus.janino.UnitCompiler.access$1700(UnitCompiler.java:226)\n",
      "\tat org.codehaus.janino.UnitCompiler$6.visitBlock(UnitCompiler.java:1496)\n",
      "\tat org.codehaus.janino.UnitCompiler$6.visitBlock(UnitCompiler.java:1490)\n",
      "\tat org.codehaus.janino.Java$Block.accept(Java.java:2969)\n",
      "\tat org.codehaus.janino.UnitCompiler.compile(UnitCompiler.java:1490)\n",
      "\tat org.codehaus.janino.UnitCompiler.compile2(UnitCompiler.java:2486)\n",
      "\tat org.codehaus.janino.UnitCompiler.access$1900(UnitCompiler.java:226)\n",
      "\tat org.codehaus.janino.UnitCompiler$6.visitIfStatement(UnitCompiler.java:1498)\n",
      "\tat org.codehaus.janino.UnitCompiler$6.visitIfStatement(UnitCompiler.java:1490)\n",
      "\tat org.codehaus.janino.Java$IfStatement.accept(Java.java:3140)\n",
      "\tat org.codehaus.janino.UnitCompiler.compile(UnitCompiler.java:1490)\n",
      "\tat org.codehaus.janino.UnitCompiler.compileStatements(UnitCompiler.java:1573)\n",
      "\tat org.codehaus.janino.UnitCompiler.compile2(UnitCompiler.java:1559)\n",
      "\tat org.codehaus.janino.UnitCompiler.access$1700(UnitCompiler.java:226)\n",
      "\tat org.codehaus.janino.UnitCompiler$6.visitBlock(UnitCompiler.java:1496)\n",
      "\tat org.codehaus.janino.UnitCompiler$6.visitBlock(UnitCompiler.java:1490)\n",
      "\tat org.codehaus.janino.Java$Block.accept(Java.java:2969)\n",
      "\tat org.codehaus.janino.UnitCompiler.compile(UnitCompiler.java:1490)\n",
      "\tat org.codehaus.janino.UnitCompiler.compile2(UnitCompiler.java:1598)\n",
      "\tat org.codehaus.janino.UnitCompiler.access$2600(UnitCompiler.java:226)\n",
      "\tat org.codehaus.janino.UnitCompiler$6.visitDoStatement(UnitCompiler.java:1505)\n",
      "\tat org.codehaus.janino.UnitCompiler$6.visitDoStatement(UnitCompiler.java:1490)\n",
      "\tat org.codehaus.janino.Java$DoStatement.accept(Java.java:3664)\n",
      "\tat org.codehaus.janino.UnitCompiler.compile(UnitCompiler.java:1490)\n",
      "\tat org.codehaus.janino.UnitCompiler.compileStatements(UnitCompiler.java:1573)\n",
      "\tat org.codehaus.janino.UnitCompiler.compile2(UnitCompiler.java:1559)\n",
      "\tat org.codehaus.janino.UnitCompiler.access$1700(UnitCompiler.java:226)\n",
      "\tat org.codehaus.janino.UnitCompiler$6.visitBlock(UnitCompiler.java:1496)\n",
      "\tat org.codehaus.janino.UnitCompiler$6.visitBlock(UnitCompiler.java:1490)\n"
     ]
    },
    {
     "name": "stdout",
     "output_type": "stream",
     "text": [
      "\tat org.codehaus.janino.Java$Block.accept(Java.java:2969)\n",
      "\tat org.codehaus.janino.UnitCompiler.compile(UnitCompiler.java:1490)\n",
      "\tat org.codehaus.janino.UnitCompiler.compile2(UnitCompiler.java:1848)\n",
      "\tat org.codehaus.janino.UnitCompiler.access$2200(UnitCompiler.java:226)\n",
      "\tat org.codehaus.janino.UnitCompiler$6.visitWhileStatement(UnitCompiler.java:1501)\n",
      "\tat org.codehaus.janino.UnitCompiler$6.visitWhileStatement(UnitCompiler.java:1490)\n",
      "\tat org.codehaus.janino.Java$WhileStatement.accept(Java.java:3245)\n",
      "\tat org.codehaus.janino.UnitCompiler.compile(UnitCompiler.java:1490)\n",
      "\tat org.codehaus.janino.UnitCompiler.compileStatements(UnitCompiler.java:1573)\n",
      "\tat org.codehaus.janino.UnitCompiler.compile(UnitCompiler.java:3420)\n",
      "\tat org.codehaus.janino.UnitCompiler.compileDeclaredMethods(UnitCompiler.java:1362)\n",
      "\tat org.codehaus.janino.UnitCompiler.compileDeclaredMethods(UnitCompiler.java:1335)\n",
      "\tat org.codehaus.janino.UnitCompiler.compile2(UnitCompiler.java:807)\n",
      "\tat org.codehaus.janino.UnitCompiler.compile2(UnitCompiler.java:975)\n",
      "\tat org.codehaus.janino.UnitCompiler.access$700(UnitCompiler.java:226)\n",
      "\tat org.codehaus.janino.UnitCompiler$2.visitMemberClassDeclaration(UnitCompiler.java:392)\n",
      "\tat org.codehaus.janino.UnitCompiler$2.visitMemberClassDeclaration(UnitCompiler.java:384)\n",
      "\tat org.codehaus.janino.Java$MemberClassDeclaration.accept(Java.java:1445)\n",
      "\tat org.codehaus.janino.UnitCompiler.compile(UnitCompiler.java:384)\n",
      "\tat org.codehaus.janino.UnitCompiler.compileDeclaredMemberTypes(UnitCompiler.java:1312)\n",
      "\tat org.codehaus.janino.UnitCompiler.compile2(UnitCompiler.java:833)\n",
      "\tat org.codehaus.janino.UnitCompiler.compile2(UnitCompiler.java:410)\n",
      "\tat org.codehaus.janino.UnitCompiler.access$400(UnitCompiler.java:226)\n",
      "\tat org.codehaus.janino.UnitCompiler$2.visitPackageMemberClassDeclaration(UnitCompiler.java:389)\n",
      "\tat org.codehaus.janino.UnitCompiler$2.visitPackageMemberClassDeclaration(UnitCompiler.java:384)\n",
      "\tat org.codehaus.janino.Java$PackageMemberClassDeclaration.accept(Java.java:1594)\n",
      "\tat org.codehaus.janino.UnitCompiler.compile(UnitCompiler.java:384)\n",
      "\tat org.codehaus.janino.UnitCompiler.compile2(UnitCompiler.java:362)\n",
      "\tat org.codehaus.janino.UnitCompiler.access$000(UnitCompiler.java:226)\n",
      "\tat org.codehaus.janino.UnitCompiler$1.visitCompilationUnit(UnitCompiler.java:336)\n",
      "\tat org.codehaus.janino.UnitCompiler$1.visitCompilationUnit(UnitCompiler.java:333)\n",
      "\tat org.codehaus.janino.Java$CompilationUnit.accept(Java.java:363)\n",
      "\tat org.codehaus.janino.UnitCompiler.compileUnit(UnitCompiler.java:333)\n",
      "\tat org.codehaus.janino.SimpleCompiler.cook(SimpleCompiler.java:235)\n",
      "\tat org.codehaus.janino.SimpleCompiler.compileToClassLoader(SimpleCompiler.java:464)\n",
      "\tat org.codehaus.janino.ClassBodyEvaluator.compileToClass(ClassBodyEvaluator.java:314)\n",
      "\tat org.codehaus.janino.ClassBodyEvaluator.cook(ClassBodyEvaluator.java:237)\n",
      "\tat org.codehaus.janino.SimpleCompiler.cook(SimpleCompiler.java:205)\n",
      "\tat org.codehaus.commons.compiler.Cookable.cook(Cookable.java:80)\n",
      "\tat org.apache.spark.sql.catalyst.expressions.codegen.CodeGenerator$.org$apache$spark$sql$catalyst$expressions$codegen$CodeGenerator$$doCompile(CodeGenerator.scala:1490)\n",
      "\tat org.apache.spark.sql.catalyst.expressions.codegen.CodeGenerator$$anon$1.load(CodeGenerator.scala:1587)\n",
      "\tat org.apache.spark.sql.catalyst.expressions.codegen.CodeGenerator$$anon$1.load(CodeGenerator.scala:1584)\n",
      "\tat org.sparkproject.guava.cache.LocalCache$LoadingValueReference.loadFuture(LocalCache.java:3599)\n",
      "\tat org.sparkproject.guava.cache.LocalCache$Segment.loadSync(LocalCache.java:2379)\n",
      "\tat org.sparkproject.guava.cache.LocalCache$Segment.lockedGetOrLoad(LocalCache.java:2342)\n",
      "\tat org.sparkproject.guava.cache.LocalCache$Segment.get(LocalCache.java:2257)\n",
      "\tat org.sparkproject.guava.cache.LocalCache.get(LocalCache.java:4000)\n",
      "\tat org.sparkproject.guava.cache.LocalCache.getOrLoad(LocalCache.java:4004)\n",
      "\tat org.sparkproject.guava.cache.LocalCache$LocalLoadingCache.get(LocalCache.java:4874)\n",
      "\tat org.apache.spark.sql.catalyst.expressions.codegen.CodeGenerator$.compile(CodeGenerator.scala:1437)\n",
      "\tat org.apache.spark.sql.execution.WholeStageCodegenExec.liftedTree1$1(WholeStageCodegenExec.scala:726)\n",
      "\tat org.apache.spark.sql.execution.WholeStageCodegenExec.doExecute(WholeStageCodegenExec.scala:725)\n",
      "\tat org.apache.spark.sql.execution.SparkPlan.$anonfun$execute$1(SparkPlan.scala:194)\n",
      "\tat org.apache.spark.sql.execution.SparkPlan.$anonfun$executeQuery$1(SparkPlan.scala:232)\n",
      "\tat org.apache.spark.rdd.RDDOperationScope$.withScope(RDDOperationScope.scala:151)\n",
      "\tat org.apache.spark.sql.execution.SparkPlan.executeQuery(SparkPlan.scala:229)\n",
      "\tat org.apache.spark.sql.execution.SparkPlan.execute(SparkPlan.scala:190)\n",
      "\tat org.apache.spark.sql.execution.SparkPlan.getByteArrayRdd(SparkPlan.scala:340)\n",
      "\tat org.apache.spark.sql.execution.SparkPlan.executeTake(SparkPlan.scala:473)\n",
      "\tat org.apache.spark.sql.execution.SparkPlan.executeTake(SparkPlan.scala:459)\n",
      "\tat org.apache.spark.sql.execution.CollectLimitExec.executeCollect(limit.scala:48)\n",
      "\tat org.apache.spark.sql.execution.adaptive.AdaptiveSparkPlanExec.$anonfun$executeCollect$1(AdaptiveSparkPlanExec.scala:345)\n",
      "\tat org.apache.spark.sql.execution.adaptive.AdaptiveSparkPlanExec.withFinalPlanUpdate(AdaptiveSparkPlanExec.scala:373)\n",
      "\tat org.apache.spark.sql.execution.adaptive.AdaptiveSparkPlanExec.executeCollect(AdaptiveSparkPlanExec.scala:345)\n",
      "\tat org.apache.spark.sql.Dataset.collectFromPlan(Dataset.scala:3868)\n",
      "\tat org.apache.spark.sql.Dataset.$anonfun$head$1(Dataset.scala:2863)\n",
      "\tat org.apache.spark.sql.Dataset.$anonfun$withAction$2(Dataset.scala:3858)\n",
      "\tat org.apache.spark.sql.execution.QueryExecution$.withInternalError(QueryExecution.scala:510)\n",
      "\tat org.apache.spark.sql.Dataset.$anonfun$withAction$1(Dataset.scala:3856)\n",
      "\tat org.apache.spark.sql.execution.SQLExecution$.$anonfun$withNewExecutionId$6(SQLExecution.scala:109)\n",
      "\tat org.apache.spark.sql.execution.SQLExecution$.withSQLConfPropagated(SQLExecution.scala:169)\n",
      "\tat org.apache.spark.sql.execution.SQLExecution$.$anonfun$withNewExecutionId$1(SQLExecution.scala:95)\n",
      "\tat org.apache.spark.sql.SparkSession.withActive(SparkSession.scala:779)\n",
      "\tat org.apache.spark.sql.execution.SQLExecution$.withNewExecutionId(SQLExecution.scala:64)\n",
      "\tat org.apache.spark.sql.Dataset.withAction(Dataset.scala:3856)\n",
      "\tat org.apache.spark.sql.Dataset.head(Dataset.scala:2863)\n",
      "\tat org.apache.spark.sql.Dataset.take(Dataset.scala:3084)\n",
      "\tat org.apache.spark.sql.Dataset.getRows(Dataset.scala:288)\n",
      "\tat org.apache.spark.sql.Dataset.showString(Dataset.scala:327)\n",
      "\tat org.apache.spark.sql.Dataset.show(Dataset.scala:808)\n",
      "\tat org.apache.spark.sql.Dataset.show(Dataset.scala:767)\n",
      "\tat org.apache.spark.sql.Dataset.show(Dataset.scala:776)\n",
      "\tat $line73.$read$$iw$$iw$$iw$$iw$$iw$$iw$$iw$$iw.<init>(<console>:62)\n",
      "\tat $line73.$read$$iw$$iw$$iw$$iw$$iw$$iw$$iw.<init>(<console>:72)\n",
      "\tat $line73.$read$$iw$$iw$$iw$$iw$$iw$$iw.<init>(<console>:74)\n",
      "\tat $line73.$read$$iw$$iw$$iw$$iw$$iw.<init>(<console>:76)\n",
      "\tat $line73.$read$$iw$$iw$$iw$$iw.<init>(<console>:78)\n",
      "\tat $line73.$read$$iw$$iw$$iw.<init>(<console>:80)\n",
      "\tat $line73.$read$$iw$$iw.<init>(<console>:82)\n",
      "\tat $line73.$read$$iw.<init>(<console>:84)\n",
      "\tat $line73.$read.<init>(<console>:86)\n",
      "\tat $line73.$read$.<init>(<console>:90)\n",
      "\tat $line73.$read$.<clinit>(<console>)\n",
      "\tat $line73.$eval$.$print$lzycompute(<console>:7)\n",
      "\tat $line73.$eval$.$print(<console>:6)\n",
      "\tat $line73.$eval.$print(<console>)\n",
      "\tat sun.reflect.NativeMethodAccessorImpl.invoke0(Native Method)\n",
      "\tat sun.reflect.NativeMethodAccessorImpl.invoke(NativeMethodAccessorImpl.java:62)\n",
      "\tat sun.reflect.DelegatingMethodAccessorImpl.invoke(DelegatingMethodAccessorImpl.java:43)\n",
      "\tat java.lang.reflect.Method.invoke(Method.java:498)\n",
      "\tat scala.tools.nsc.interpreter.IMain$ReadEvalPrint.call(IMain.scala:747)\n",
      "\tat scala.tools.nsc.interpreter.IMain$Request.loadAndRun(IMain.scala:1020)\n",
      "\tat scala.tools.nsc.interpreter.IMain.$anonfun$interpret$1(IMain.scala:568)\n",
      "\tat scala.reflect.internal.util.ScalaClassLoader.asContext(ScalaClassLoader.scala:36)\n",
      "\tat scala.reflect.internal.util.ScalaClassLoader.asContext$(ScalaClassLoader.scala:116)\n",
      "\tat scala.reflect.internal.util.AbstractFileClassLoader.asContext(AbstractFileClassLoader.scala:41)\n",
      "\tat scala.tools.nsc.interpreter.IMain.loadAndRunReq$1(IMain.scala:567)\n",
      "\tat scala.tools.nsc.interpreter.IMain.interpret(IMain.scala:594)\n",
      "\tat scala.tools.nsc.interpreter.IMain.interpret(IMain.scala:564)\n",
      "\tat org.apache.toree.kernel.interpreter.scala.ScalaInterpreterSpecific.$anonfun$interpretAddTask$2(ScalaInterpreterSpecific.scala:381)\n",
      "\tat scala.util.DynamicVariable.withValue(DynamicVariable.scala:62)\n",
      "\tat scala.Console$.withErr(Console.scala:196)\n",
      "\tat org.apache.toree.global.StreamState$.$anonfun$withStreams$2(StreamState.scala:74)\n",
      "\tat scala.util.DynamicVariable.withValue(DynamicVariable.scala:62)\n",
      "\tat scala.Console$.withOut(Console.scala:167)\n",
      "\tat org.apache.toree.global.StreamState$.$anonfun$withStreams$1(StreamState.scala:73)\n",
      "\tat scala.util.DynamicVariable.withValue(DynamicVariable.scala:62)\n",
      "\tat scala.Console$.withIn(Console.scala:230)\n",
      "\tat org.apache.toree.global.StreamState$.withStreams(StreamState.scala:72)\n",
      "\tat org.apache.toree.kernel.interpreter.scala.ScalaInterpreterSpecific.$anonfun$interpretAddTask$1(ScalaInterpreterSpecific.scala:376)\n",
      "\tat org.apache.toree.utils.TaskManager$$anon$2.run(TaskManager.scala:134)\n",
      "\tat java.util.concurrent.ThreadPoolExecutor.runWorker(ThreadPoolExecutor.java:1149)\n",
      "\tat java.util.concurrent.ThreadPoolExecutor$Worker.run(ThreadPoolExecutor.java:624)\n",
      "\tat java.lang.Thread.run(Thread.java:750)\n"
     ]
    },
    {
     "name": "stdout",
     "output_type": "stream",
     "text": [
      "+---------+---------+----------+------+--------+--------------------+--------+-----+--------------------+------+------+--------+-----+--------------------+------+------+-----+---------+\n",
      "|AccountDB|AccountCR|    DateOp|Amount|Currency|             Comment|ClientDB|AccDB|               NumDB|TypeDB|FormDB|ClientCR|AccCR|               NumCR|TypeCR|FormCR| Rate|AmountRUB|\n",
      "+---------+---------+----------+------+--------+--------------------+--------+-----+--------------------+------+------+--------+-----+--------------------+------+------+-----+---------+\n",
      "|        1|     4999|2020-11-01|  1.00|     RUB|а/м, а\\м, автомоб...|       1|    1|40702810927050000337|     Ф|     -|    4999| 4999|40802810147180000076|     Ф|     -| 1.00|     1.00|\n",
      "|        1|     4999|2020-11-01|  1.00|     RUB|а/м, а\\м, автомоб...|    4999| 4999|40802810147180000076|     Ф|     -|    4999| 4999|40802810147180000076|     Ф|     -| 1.00|     1.00|\n",
      "|        5|     5003|2020-11-01|  5.00|     USD|компью, монитор, ...|       5|    5|40802810300000011071|     Ф|     -|    5003| 5003|40802810520270000061|     Ф|     -|72.23|   361.15|\n",
      "|        5|     5003|2020-11-01|  5.00|     USD|компью, монитор, ...|    5003| 5003|40802810520270000061|     Ф|     -|    5003| 5003|40802810520270000061|     Ф|     -|72.23|   361.15|\n",
      "|        9|     5007|2020-11-01|  9.00|      EU|торгвыруч, оплату...|       9|    9|40802810905030000004|     Ф|     -|    5007| 5007|40702810320640000569|     Ф|     -|74.27|   668.43|\n",
      "|        9|     5007|2020-11-01|  9.00|      EU|торгвыруч, оплату...|    5007| 5007|40702810320640000569|     Ф|     -|    5007| 5007|40702810320640000569|     Ф|     -|74.27|   668.43|\n",
      "|       13|     5011|2020-11-01| 13.00|     RUB|гсм, бензин, керо...|      13|   13|40702810000000150277|     Ф|     -|    5011| 5011|40702810414030000268|     Ф|     -| 1.00|    13.00|\n",
      "|       13|     5011|2020-11-01| 13.00|     RUB|гсм, бензин, керо...|    5011| 5011|40702810414030000268|     Ф|     -|    5011| 5011|40702810414030000268|     Ф|     -| 1.00|    13.00|\n",
      "|       17|     5015|2020-11-01| 17.00|     USD|турусл, турист, з...|      17|   17|40702810600000057437|     Ф|     -|    5015| 5015|40802810107250000129|     Ф|     -|72.23|  1227.91|\n",
      "|       17|     5015|2020-11-01| 17.00|     USD|турусл, турист, з...|    5015| 5015|40802810107250000129|     Ф|     -|    5015| 5015|40802810107250000129|     Ф|     -|72.23|  1227.91|\n",
      "|       21|     5019|2020-11-01| 21.00|      EU|сигар, табачн, та...|      21|   21|40702810300000049813|     Ф|     -|    5019| 5019|40802810222180000263|     Ф|     -|74.27|  1559.67|\n",
      "|       21|     5019|2020-11-01| 21.00|      EU|сигар, табачн, та...|    5019| 5019|40802810222180000263|     Ф|     -|    5019| 5019|40802810222180000263|     Ф|     -|74.27|  1559.67|\n",
      "|       25|     5023|2020-11-01| 25.00|     RUB|хоз, бытхим, подг...|      25|   25|40802810327110000024|     Ф|     -|    5023| 5023|40802810113310000074|     Ф|     -| 1.00|    25.00|\n",
      "|       25|     5023|2020-11-01| 25.00|     RUB|хоз, бытхим, подг...|    5023| 5023|40802810113310000074|     Ф|     -|    5023| 5023|40802810113310000074|     Ф|     -| 1.00|    25.00|\n",
      "|       29|     5027|2020-11-01| 29.00|     USD| сою, соя, зерно,...|      29|   29|40802810400020000632|     Ф|     -|    5027| 5027|40802810510180000344|     Ф|     -|72.23|  2094.67|\n",
      "|       29|     5027|2020-11-01| 29.00|     USD| сою, соя, зерно,...|    5027| 5027|40802810510180000344|     Ф|     -|    5027| 5027|40802810510180000344|     Ф|     -|72.23|  2094.67|\n",
      "|       33|     5031|2020-11-01| 33.00|      EU|ювелир,  юв., лом...|      33|   33|40702810900000120462|     Ф|     -|    5031| 5031|40702810135030000217|     Ф|     -|74.27|  2450.91|\n",
      "|       33|     5031|2020-11-01| 33.00|      EU|ювелир,  юв., лом...|    5031| 5031|40702810135030000217|     Ф|     -|    5031| 5031|40702810135030000217|     Ф|     -|74.27|  2450.91|\n",
      "|       37|     5035|2020-11-01| 37.00|     RUB|а/м, а\\м, автомоб...|      37|   37|40702810800000034454|     Ф|     -|    5035| 5035|40702810313680000096|     Ф|     -| 1.00|    37.00|\n",
      "|       37|     5035|2020-11-01| 37.00|     RUB|а/м, а\\м, автомоб...|    5035| 5035|40702810313680000096|     Ф|     -|    5035| 5035|40702810313680000096|     Ф|     -| 1.00|    37.00|\n",
      "+---------+---------+----------+------+--------+--------------------+--------+-----+--------------------+------+------+--------+-----+--------------------+------+------+-----+---------+\n",
      "only showing top 20 rows\n",
      "\n"
     ]
    },
    {
     "data": {
      "text/plain": [
       "lastRate = [Currency: string, Rate: decimal(10,2)]\n",
       "rateCondition = (Currency = Currency)\n",
       "clientsAndAccountsOpRate = [AccountDB: int, AccountCR: int ... 16 more fields]\n",
       "clientsAndAccountsOpRate = [AccountDB: int, AccountCR: int ... 16 more fields]\n"
      ]
     },
     "metadata": {},
     "output_type": "display_data"
    },
    {
     "data": {
      "text/plain": [
       "error: error while loading Decimal, class file '/opt/spark-3.3.1-bin-hadoop3/jars/spark-catalyst_2.12-3.3.1.jar(org/apache/spark/sql/types/Decimal.class)' is broken\n",
       "(class java.lang.RuntimeException/error reading Scala signature of Decimal.class: assertion failed:\n",
       "  Decimal$DecimalIsFractional\n",
       "     while compiling: <console>\n",
       "        during phase: globalPhase=terminal, enteringPhase=jvm\n",
       "     library version: version 2.12.15\n",
       "    compiler version: version 2.12.15\n",
       "  reconstructed args: -usejavacp -classpath file:/usr/lib/jvm/java-8-openjdk-amd64/jre/lib/ext/cldrdata.jar:file:/usr/lib/jvm/java-8-openjdk-amd64/jre/lib/ext/dnsns.jar:file:/usr/lib/jvm/java-8-openjdk-amd64/jre/lib/ext/icedtea-sound.jar:file:/usr/lib/jvm/java-8-openjdk-amd64/jre/lib/ext/localedata.jar:file:/usr/lib/jvm/java-8-openjdk-amd64/jre/lib/ext/sunjce_provider.jar:file:/usr/lib/jvm/java-8-openjdk-amd64/jre/lib/ext/sunec.jar:file:/usr/lib/jvm/java-8-openjdk-amd64/jre/lib/ext/nashorn.jar:file:/usr/lib/jvm/java-8-openjdk-amd64/jre/lib/ext/jaccess.jar:file:/usr/lib/jvm/java-8-openjdk-amd64/jre/lib/ext/sunpkcs11.jar:file:/usr/lib/jvm/java-8-openjdk-amd64/jre/lib/ext/zipfs.jar:file:/opt/spark-3.3.1-bin-hadoop3/conf/:file:/opt/spark-3.3.1-bin-hadoop3/jars/spark-network-common_2.12-3.3.1.jar:file:/opt/spark-3.3.1-bin-hadoop3/jars/kubernetes-model-node-5.12.2.jar:file:/opt/spark-3.3.1-bin-hadoop3/jars/zookeeper-jute-3.6.2.jar:file:/opt/spark-3.3.1-bin-hadoop3/jars/ST4-4.0.4.jar:file:/opt/spark-3.3.1-bin-hadoop3/jars/netty-transport-4.1.74.Final.jar:file:/opt/spark-3.3.1-bin-hadoop3/jars/httpcore-4.4.14.jar:file:/opt/spark-3.3.1-bin-hadoop3/jars/netty-transport-native-epoll-4.1.74.Final-linux-x86_64.jar:file:/opt/spark-3.3.1-bin-hadoop3/jars/commons-compiler-3.0.16.jar:file:/opt/spark-3.3.1-bin-hadoop3/jars/libfb303-0.9.3.jar:file:/opt/spark-3.3.1-bin-hadoop3/jars/guava-14.0.1.jar:file:/opt/spark-3.3.1-bin-hadoop3/jars/spire_2.12-0.17.0.jar:file:/opt/spark-3.3.1-bin-hadoop3/jars/log4j-1.2-api-2.17.2.jar:file:/opt/spark-3.3.1-bin-hadoop3/jars/spire-platform_2.12-0.17.0.jar:file:/opt/spark-3.3.1-bin-hadoop3/jars/arpack_combined_all-0.1.jar:file:/opt/spark-3.3.1-bin-hadoop3/jars/datanucleus-api-jdo-4.2.4.jar:file:/opt/spark-3.3.1-bin-hadoop3/jars/hive-storage-api-2.7.2.jar:file:/opt/spark-3.3.1-bin-hadoop3/jars/generex-1.0.2.jar:file:/opt/spark-3.3.1-bin-hadoop3/jars/kubernetes-model-admissionregistration-5.12.2.jar:file:/opt/spark-3.3.1-bin-hadoop3/jars/avro-1.11.0.jar:file:/opt/spark-3.3.1-bin-hadoop3/jars/jackson-annotations-2.13.4.jar:file:/opt/spark-3.3.1-bin-hadoop3/jars/xz-1.8.jar:file:/opt/spark-3.3.1-bin-hadoop3/jars/kubernetes-model-events-5.12.2.jar:file:/opt/spark-3.3.1-bin-hadoop3/jars/json4s-jackson_2.12-3.7.0-M11.jar:file:/opt/spark-3.3.1-bin-hadoop3/jars/jackson-dataformat-yaml-2.13.4.jar:file:/opt/spark-3.3.1-bin-hadoop3/jars/chill_2.12-0.10.0.jar:file:/opt/spark-3.3.1-bin-hadoop3/jars/istack-commons-runtime-3.0.8.jar:file:/opt/spark-3.3.1-bin-hadoop3/jars/slf4j-api-1.7.32.jar:file:/opt/spark-3.3.1-bin-hadoop3/jars/jersey-client-2.36.jar:file:/opt/spark-3.3.1-bin-hadoop3/jars/jdo-api-3.0.1.jar:file:/opt/spark-3.3.1-bin-hadoop3/jars/jackson-datatype-jsr310-2.13.4.jar:file:/opt/spark-3.3.1-bin-hadoop3/jars/spark-launcher_2.12-3.3.1.jar:file:/opt/spark-3.3.1-bin-hadoop3/jars/netty-transport-native-kqueue-4.1.74.Final-osx-x86_64.jar:file:/opt/spark-3.3.1-bin-hadoop3/jars/curator-recipes-2.13.0.jar:file:/opt/spark-3.3.1-bin-hadoop3/jars/janino-3.0.16.jar:file:/opt/spark-3.3.1-bin-hadoop3/jars/zjsonpatch-0.3.0.jar:file:/opt/spark-3.3.1-bin-hadoop3/jars/dropwizard-metrics-hadoop-metrics2-reporter-0.1.2.jar:file:/opt/spark-3.3.1-bin-hadoop3/jars/netty-buffer-4.1.74.Final.jar:file:/opt/spark-3.3.1-bin-hadoop3/jars/spark-mesos_2.12-3.3.1.jar:file:/opt/spark-3.3.1-bin-hadoop3/jars/hk2-locator-2.6.1.jar:file:/opt/spark-3.3.1-bin-hadoop3/jars/spark-graphx_2.12-3.3.1.jar:file:/opt/spark-3.3.1-bin-hadoop3/jars/snakeyaml-1.31.jar:file:/opt/spark-3.3.1-bin-hadoop3/jars/transaction-api-1.1.jar:file:/opt/spark-3.3.1-bin-hadoop3/jars/orc-core-1.7.6.jar:file:/opt/spark-3.3.1-bin-hadoop3/jars/automaton-1.11-8.jar:file:/opt/spark-3.3.1-bin-hadoop3/jars/jersey-container-servlet-core-2.36.jar:file:/opt/spark-3.3.1-bin-hadoop3/jars/netty-handler-4.1.74.Final.jar:file:/opt/spark-3.3.1-bin-hadoop3/jars/JTransforms-3.1.jar:file:/opt/spark-3.3.1-bin-hadoop3/jars/netty-transport-native-epoll-4.1.74.Final-linux-aarch_64.jar:file:/opt/spark-3.3.1-bin-hadoop3/jars/jakarta.servlet-api-4.0.3.jar:file:/opt/spark-3.3.1-bin-hadoop3/jars/arpack-2.2.1.jar:file:/opt/spark-3.3.1-bin-hadoop3/jars/joda-time-2.10.13.jar:file:/opt/spark-3.3.1-bin-hadoop3/jars/hadoop-yarn-server-web-proxy-3.3.2.jar:file:/opt/spark-3.3.1-bin-hadoop3/jars/arrow-memory-core-7.0.0.jar:file:/opt/spark-3.3.1-bin-hadoop3/jars/spark-mllib-local_2.12-3.3.1.jar:file:/opt/spark-3.3.1-bin-hadoop3/jars/kubernetes-model-policy-5.12.2.jar:file:/opt/spark-3.3.1-bin-hadoop3/jars/commons-logging-1.1.3.jar:file:/opt/spark-3.3.1-bin-hadoop3/jars/jta-1.1.jar:file:/opt/spark-3.3.1-bin-hadoop3/jars/curator-framework-2.13.0.jar:file:/opt/spark-3.3.1-bin-hadoop3/jars/parquet-column-1.12.2.jar:file:/opt/spark-3.3.1-bin-hadoop3/jars/hive-common-2.3.9.jar:file:/opt/spark-3.3.1-bin-hadoop3/jars/hive-shims-2.3.9.jar:file:/opt/spark-3.3.1-bin-hadoop3/jars/metrics-graphite-4.2.7.jar:file:/opt/spark-3.3.1-bin-hadoop3/jars/log4j-slf4j-impl-2.17.2.jar:file:/opt/spark-3.3.1-bin-hadoop3/jars/scala-xml_2.12-1.2.0.jar:file:/opt/spark-3.3.1-bin-hadoop3/jars/scala-library-2.12.15.jar:file:/opt/spark-3.3.1-bin-hadoop3/jars/snappy-java-1.1.8.4.jar:file:/opt/spark-3.3.1-bin-hadoop3/jars/mesos-1.4.3-shaded-protobuf.jar:file:/opt/spark-3.3.1-bin-hadoop3/jars/breeze_2.12-1.2.jar:file:/opt/spark-3.3.1-bin-hadoop3/jars/spark-streaming_2.12-3.3.1.jar:file:/opt/spark-3.3.1-bin-hadoop3/jars/opencsv-2.3.jar:file:/opt/spark-3.3.1-bin-hadoop3/jars/metrics-jvm-4.2.7.jar:file:/opt/spark-3.3.1-bin-hadoop3/jars/datanucleus-core-4.1.17.jar:file:/opt/spark-3.3.1-bin-hadoop3/jars/spark-kubernetes_2.12-3.3.1.jar:file:/opt/spark-3.3.1-bin-hadoop3/jars/zookeeper-3.6.2.jar:file:/opt/spark-3.3.1-bin-hadoop3/jars/tink-1.6.1.jar:file:/opt/spark-3.3.1-bin-hadoop3/jars/jakarta.inject-2.6.1.jar:file:/opt/spark-3.3.1-bin-hadoop3/jars/aopalliance-repackaged-2.6.1.jar:file:/opt/spark-3.3.1-bin-hadoop3/jars/kryo-shaded-4.0.2.jar:file:/opt/spark-3.3.1-bin-hadoop3/jars/jersey-common-2.36.jar:file:/opt/spark-3.3.1-bin-hadoop3/jars/logging-interceptor-3.12.12.jar:file:/opt/spark-3.3.1-bin-hadoop3/jars/scala-parser-combinators_2.12-1.1.2.jar:file:/opt/spark-3.3.1-bin-hadoop3/jars/spire-util_2.12-0.17.0.jar:file:/opt/spark-3.3.1-bin-hadoop3/jars/parquet-encoding-1.12.2.jar:file:/opt/spark-3.3.1-bin-hadoop3/jars/json-1.8.jar:file:/opt/spark-3.3.1-bin-hadoop3/jars/jaxb-runtime-2.3.2.jar:file:/opt/spark-3.3.1-bin-hadoop3/jars/jackson-mapper-asl-1.9.13.jar:file:/opt/spark-3.3.1-bin-hadoop3/jars/hadoop-client-api-3.3.2.jar:file:/opt/spark-3.3.1-bin-hadoop3/jars/parquet-hadoop-1.12.2.jar:file:/opt/spark-3.3.1-bin-hadoop3/jars/log4j-core-2.17.2.jar:file:/opt/spark-3.3.1-bin-hadoop3/jars/kubernetes-model-certificates-5.12.2.jar:file:/opt/spark-3.3.1-bin-hadoop3/jars/kubernetes-model-apiextensions-5.12.2.jar:file:/opt/spark-3.3.1-bin-hadoop3/jars/super-csv-2.2.0.jar:file:/opt/spark-3.3.1-bin-hadoop3/jars/protobuf-java-2.5.0.jar:file:/opt/spark-3.3.1-bin-hadoop3/jars/stax-api-1.0.1.jar:file:/opt/spark-3.3.1-bin-hadoop3/jars/lz4-java-1.8.0.jar:file:/opt/spark-3.3.1-bin-hadoop3/jars/spire-macros_2.12-0.17.0.jar:file:/opt/spark-3.3.1-bin-hadoop3/jars/hive-jdbc-2.3.9.jar:file:/opt/spark-3.3.1-bin-hadoop3/jars/flatbuffers-java-1.12.0.jar:file:/opt/spark-3.3.1-bin-hadoop3/jars/jul-to-slf4j-1.7.32.jar:file:/opt/spark-3.3.1-bin-hadoop3/jars/spark-kvstore_2.12-3.3.1.jar:file:/opt/spark-3.3.1-bin-hadoop3/jars/jodd-core-3.5.2.jar:file:/opt/spark-3.3.1-bin-hadoop3/jars/kubernetes-model-core-5.12.2.jar:file:/opt/spark-3.3.1-bin-hadoop3/jars/audience-annotations-0.5.0.jar:file:/opt/spark-3.3.1-bin-hadoop3/jars/json4s-core_2.12-3.7.0-M11.jar:file:/opt/spark-3.3.1-bin-hadoop3/jars/parquet-format-structures-1.12.2.jar:file:/opt/spark-3.3.1-bin-hadoop3/jars/kubernetes-model-networking-5.12.2.jar:file:/opt/spark-3.3.1-bin-hadoop3/jars/commons-lang-2.6.jar:file:/opt/spark-3.3.1-bin-hadoop3/jars/minlog-1.3.0.jar:file:/opt/spark-3.3.1-bin-hadoop3/jars/hk2-utils-2.6.1.jar:file:/opt/spark-3.3.1-bin-hadoop3/jars/avro-ipc-1.11.0.jar:file:/opt/spark-3.3.1-bin-hadoop3/jars/parquet-jackson-1.12.2.jar:file:/opt/spark-3.3.1-bin-hadoop3/jars/kubernetes-model-discovery-5.12.2.jar:file:/opt/spark-3.3.1-bin-hadoop3/jars/jcl-over-slf4j-1.7.32.jar:file:/opt/spark-3.3.1-bin-hadoop3/jars/hive-service-rpc-3.1.2.jar:file:/opt/spark-3.3.1-bin-hadoop3/jars/hadoop-shaded-guava-1.1.1.jar:file:/opt/spark-3.3.1-bin-hadoop3/jars/netty-common-4.1.74.Final.jar:file:/opt/spark-3.3.1-bin-hadoop3/jars/spark-tags_2.12-3.3.1-tests.jar:file:/opt/spark-3.3.1-bin-hadoop3/jars/gson-2.2.4.jar:file:/opt/spark-3.3.1-bin-hadoop3/jars/orc-shims-1.7.6.jar:file:/opt/spark-3.3.1-bin-hadoop3/jars/metrics-json-4.2.7.jar:file:/opt/spark-3.3.1-bin-hadoop3/jars/jakarta.annotation-api-1.3.5.jar:file:/opt/spark-3.3.1-bin-hadoop3/jars/jersey-server-2.36.jar:file:/opt/spark-3.3.1-bin-hadoop3/jars/kubernetes-model-flowcontrol-5.12.2.jar:file:/opt/spark-3.3.1-bin-hadoop3/jars/hive-shims-0.23-2.3.9.jar:file:/opt/spark-3.3.1-bin-hadoop3/jars/netty-transport-native-kqueue-4.1.74.Final-osx-aarch_64.jar:file:/opt/spark-3.3.1-bin-hadoop3/jars/xbean-asm9-shaded-4.20.jar:file:/opt/spark-3.3.1-bin-hadoop3/jars/jersey-container-servlet-2.36.jar:file:/opt/spark-3.3.1-bin-hadoop3/jars/kubernetes-model-storageclass-5.12.2.jar:file:/opt/spark-3.3.1-bin-hadoop3/jars/HikariCP-2.5.1.jar:file:/opt/spark-3.3.1-bin-hadoop3/jars/hive-beeline-2.3.9.jar:file:/opt/spark-3.3.1-bin-hadoop3/jars/shapeless_2.12-2.3.7.jar:file:/opt/spark-3.3.1-bin-hadoop3/jars/threeten-extra-1.5.0.jar:file:/opt/spark-3.3.1-bin-hadoop3/jars/rocksdbjni-6.20.3.jar:file:/opt/spark-3.3.1-bin-hadoop3/jars/hive-serde-2.3.9.jar:file:/opt/spark-3.3.1-bin-hadoop3/jars/netty-tcnative-classes-2.0.48.Final.jar:file:/opt/spark-3.3.1-bin-hadoop3/jars/orc-mapreduce-1.7.6.jar:file:/opt/spark-3.3.1-bin-hadoop3/jars/antlr4-runtime-4.8.jar:file:/opt/spark-3.3.1-bin-hadoop3/jars/commons-compress-1.21.jar:file:/opt/spark-3.3.1-bin-hadoop3/jars/antlr-runtime-3.5.2.jar:file:/opt/spark-3.3.1-bin-hadoop3/jars/scala-compiler-2.12.15.jar:file:/opt/spark-3.3.1-bin-hadoop3/jars/hive-vector-code-gen-2.3.9.jar:file:/opt/spark-3.3.1-bin-hadoop3/jars/pickle-1.2.jar:file:/opt/spark-3.3.1-bin-hadoop3/jars/hive-shims-common-2.3.9.jar:file:/opt/spark-3.3.1-bin-hadoop3/jars/spark-hive_2.12-3.3.1.jar:file:/opt/spark-3.3.1-bin-hadoop3/jars/netty-codec-4.1.74.Final.jar:file:/opt/spark-3.3.1-bin-hadoop3/jars/spark-unsafe_2.12-3.3.1.jar:file:/opt/spark-3.3.1-bin-hadoop3/jars/javassist-3.25.0-GA.jar:file:/opt/spark-3.3.1-bin-hadoop3/jars/bonecp-0.8.0.RELEASE.jar:file:/opt/spark-3.3.1-bin-hadoop3/jars/okhttp-3.12.12.jar:file:/opt/spark-3.3.1-bin-hadoop3/jars/javax.jdo-3.2.0-m3.jar:file:/opt/spark-3.3.1-bin-hadoop3/jars/breeze-macros_2.12-1.2.jar:file:/opt/spark-3.3.1-bin-hadoop3/jars/commons-codec-1.15.jar:file:/opt/spark-3.3.1-bin-hadoop3/jars/spark-yarn_2.12-3.3.1.jar:file:/opt/spark-3.3.1-bin-hadoop3/jars/kubernetes-model-metrics-5.12.2.jar:file:/opt/spark-3.3.1-bin-hadoop3/jars/stream-2.9.6.jar:file:/opt/spark-3.3.1-bin-hadoop3/jars/blas-2.2.1.jar:file:/opt/spark-3.3.1-bin-hadoop3/jars/commons-lang3-3.12.0.jar:file:/opt/spark-3.3.1-bin-hadoop3/jars/commons-cli-1.5.0.jar:file:/opt/spark-3.3.1-bin-hadoop3/jars/spark-hive-thriftserver_2.12-3.3.1.jar:file:/opt/spark-3.3.1-bin-hadoop3/jars/spark-core_2.12-3.3.1.jar:file:/opt/spark-3.3.1-bin-hadoop3/jars/commons-pool-1.5.4.jar:file:/opt/spark-3.3.1-bin-hadoop3/jars/kubernetes-model-coordination-5.12.2.jar:file:/opt/spark-3.3.1-bin-hadoop3/jars/activation-1.1.1.jar:file:/opt/spark-3.3.1-bin-hadoop3/jars/netty-all-4.1.74.Final.jar:file:/opt/spark-3.3.1-bin-hadoop3/jars/compress-lzf-1.1.jar:file:/opt/spark-3.3.1-bin-hadoop3/jars/univocity-parsers-2.9.1.jar:file:/opt/spark-3.3.1-bin-hadoop3/jars/jakarta.validation-api-2.0.2.jar:file:/opt/spark-3.3.1-bin-hadoop3/jars/metrics-core-4.2.7.jar:file:/opt/spark-3.3.1-bin-hadoop3/jars/algebra_2.12-2.0.1.jar:file:/opt/spark-3.3.1-bin-hadoop3/jars/jsr305-3.0.0.jar:file:/opt/spark-3.3.1-bin-hadoop3/jars/netty-transport-native-unix-common-4.1.74.Final.jar:file:/opt/spark-3.3.1-bin-hadoop3/jars/commons-crypto-1.1.0.jar:file:/opt/spark-3.3.1-bin-hadoop3/jars/py4j-0.10.9.5.jar:file:/opt/spark-3.3.1-bin-hadoop3/jars/metrics-jmx-4.2.7.jar:file:/opt/spark-3.3.1-bin-hadoop3/jars/ivy-2.5.0.jar:file:/opt/spark-3.3.1-bin-hadoop3/jars/jersey-hk2-2.36.jar:file:/opt/spark-3.3.1-bin-hadoop3/jars/scala-collection-compat_2.12-2.1.1.jar:file:/opt/spark-3.3.1-bin-hadoop3/jars/hive-exec-2.3.9-core.jar:file:/opt/spark-3.3.1-bin-hadoop3/jars/kubernetes-model-rbac-5.12.2.jar:file:/opt/spark-3.3.1-bin-hadoop3/jars/jackson-databind-2.13.4.1.jar:file:/opt/spark-3.3.1-bin-hadoop3/jars/core-1.1.2.jar:file:/opt/spark-3.3.1-bin-hadoop3/jars/commons-dbcp-1.4.jar:file:/opt/spark-3.3.1-bin-hadoop3/jars/hive-cli-2.3.9.jar:file:/opt/spark-3.3.1-bin-hadoop3/jars/httpclient-4.5.13.jar:file:/opt/spark-3.3.1-bin-hadoop3/jars/hive-llap-common-2.3.9.jar:file:/opt/spark-3.3.1-bin-hadoop3/jars/hive-shims-scheduler-2.3.9.jar:file:/opt/spark-3.3.1-bin-hadoop3/jars/aircompressor-0.21.jar:file:/opt/spark-3.3.1-bin-hadoop3/jars/javolution-5.5.1.jar:file:/opt/spark-3.3.1-bin-hadoop3/jars/kubernetes-client-5.12.2.jar:file:/opt/spark-3.3.1-bin-hadoop3/jars/velocity-1.5.jar:file:/opt/spark-3.3.1-bin-hadoop3/jars/kubernetes-model-batch-5.12.2.jar:file:/opt/spark-3.3.1-bin-hadoop3/jars/kubernetes-model-apps-5.12.2.jar:file:/opt/spark-3.3.1-bin-hadoop3/jars/kubernetes-model-scheduling-5.12.2.jar:file:/opt/spark-3.3.1-bin-hadoop3/jars/spark-mllib_2.12-3.3.1.jar:file:/opt/spark-3.3.1-bin-hadoop3/jars/curator-client-2.13.0.jar:file:/opt/spark-3.3.1-bin-hadoop3/jars/arrow-format-7.0.0.jar:file:/opt/spark-3.3.1-bin-hadoop3/jars/hk2-api-2.6.1.jar:file:/opt/spark-3.3.1-bin-hadoop3/jars/arrow-vector-7.0.0.jar:file:/opt/spark-3.3.1-bin-hadoop3/jars/kubernetes-model-autoscaling-5.12.2.jar:file:/opt/spark-3.3.1-bin-hadoop3/jars/spark-sketch_2.12-3.3.1.jar:file:/opt/spark-3.3.1-bin-hadoop3/jars/kubernetes-model-common-5.12.2.jar:file:/opt/spark-3.3.1-bin-hadoop3/jars/derby-10.14.2.0.jar:file:/opt/spark-3.3.1-bin-hadoop3/jars/parquet-common-1.12.2.jar:file:/opt/spark-3.3.1-bin-hadoop3/jars/lapack-2.2.1.jar:file:/opt/spark-3.3.1-bin-hadoop3/jars/commons-collections4-4.4.jar:file:/opt/spark-3.3.1-bin-hadoop3/jars/shims-0.9.25.jar:file:/opt/spark-3.3.1-bin-hadoop3/jars/netty-transport-classes-epoll-4.1.74.Final.jar:file:/opt/spark-3.3.1-bin-hadoop3/jars/arrow-memory-netty-7.0.0.jar:file:/opt/spark-3.3.1-bin-hadoop3/jars/annotations-17.0.0.jar:file:/opt/spark-3.3.1-bin-hadoop3/jars/spark-sql_2.12-3.3.1.jar:file:/opt/spark-3.3.1-bin-hadoop3/jars/commons-text-1.9.jar:file:/opt/spark-3.3.1-bin-hadoop3/jars/netty-transport-classes-kqueue-4.1.74.Final.jar:file:/opt/spark-3.3.1-bin-hadoop3/jars/JLargeArrays-1.5.jar:file:/opt/spark-3.3.1-bin-hadoop3/jars/oro-2.0.8.jar:file:/opt/spark-3.3.1-bin-hadoop3/jars/spark-catalyst_2.12-3.3.1.jar:file:/opt/spark-3.3.1-bin-hadoop3/jars/hadoop-client-runtime-3.3.2.jar:file:/opt/spark-3.3.1-bin-hadoop3/jars/avro-mapred-1.11.0.jar:file:/opt/spark-3.3.1-bin-hadoop3/jars/spark-repl_2.12-3.3.1.jar:file:/opt/spark-3.3.1-bin-hadoop3/jars/RoaringBitmap-0.9.25.jar:file:/opt/spark-3.3.1-bin-hadoop3/jars/okio-1.14.0.jar:file:/opt/spark-3.3.1-bin-hadoop3/jars/jackson-core-asl-1.9.13.jar:file:/opt/spark-3.3.1-bin-hadoop3/jars/postgresql-42.5.1.jar:file:/opt/spark-3.3.1-bin-hadoop3/jars/commons-io-2.11.0.jar:file:/opt/spark-3.3.1-bin-hadoop3/jars/datanucleus-rdbms-4.1.19.jar:file:/opt/spark-3.3.1-bin-hadoop3/jars/objenesis-3.2.jar:file:/opt/spark-3.3.1-bin-hadoop3/jars/jackson-core-2.13.4.jar:file:/opt/spark-3.3.1-bin-hadoop3/jars/osgi-resource-locator-1.0.3.jar:file:/opt/spark-3.3.1-bin-hadoop3/jars/spark-network-shuffle_2.12-3.3.1.jar:file:/opt/spark-3.3.1-bin-hadoop3/jars/json4s-ast_2.12-3.7.0-M11.jar:file:/opt/spark-3.3.1-bin-hadoop3/jars/chill-java-0.10.0.jar:file:/opt/spark-3.3.1-bin-hadoop3/jars/log4j-api-2.17.2.jar:file:/opt/spark-3.3.1-bin-hadoop3/jars/commons-math3-3.6.1.jar:file:/opt/spark-3.3.1-bin-hadoop3/jars/spark-tags_2.12-3.3.1.jar:file:/opt/spark-3.3.1-bin-hadoop3/jars/zstd-jni-1.5.2-1.jar:file:/opt/spark-3.3.1-bin-hadoop3/jars/scala-reflect-2.12.15.jar:file:/opt/spark-3.3.1-bin-hadoop3/jars/jakarta.ws.rs-api-2.1.6.jar:file:/opt/spark-3.3.1-bin-hadoop3/jars/cats-kernel_2.12-2.1.1.jar:file:/opt/spark-3.3.1-bin-hadoop3/jars/paranamer-2.8.jar:file:/opt/spark-3.3.1-bin-hadoop3/jars/libthrift-0.12.0.jar:file:/opt/spark-3.3.1-bin-hadoop3/jars/leveldbjni-all-1.8.jar:file:/opt/spark-3.3.1-bin-hadoop3/jars/kubernetes-model-extensions-5.12.2.jar:file:/opt/spark-3.3.1-bin-hadoop3/jars/jackson-module-scala_2.12-2.13.4.jar:file:/opt/spark-3.3.1-bin-hadoop3/jars/netty-resolver-4.1.74.Final.jar:file:/opt/spark-3.3.1-bin-hadoop3/jars/hive-metastore-2.3.9.jar:file:/opt/spark-3.3.1-bin-hadoop3/jars/json4s-scalap_2.12-3.7.0-M11.jar:file:/opt/spark-3.3.1-bin-hadoop3/jars/commons-collections-3.2.2.jar:file:/opt/spark-3.3.1-bin-hadoop3/jars/jakarta.xml.bind-api-2.3.2.jar:file:/opt/spark-3.3.1-bin-hadoop3/jars/jpam-1.1.jar:file:/opt/spark-3.3.1-bin-hadoop3/jars/jline-2.14.6.jar:file:/usr/local/share/jupyter/kernels/apache_toree_scala/lib/toree-assembly-0.5.0-incubating.jar -Yrepl-class-based -Yrepl-outdir /tmp/spark-49956acf-82b5-4e2c-b513-faef0db60f2c/repl-c2b59c14-3cf5-4e66-9f4b-b072c3b8d411\n",
       "  last tree to typer: TypeTree(class Byte)\n",
       "       tree position: line 6 of <console>\n",
       "            tree tpe: Byte\n",
       "              symbol: (final abstract) class Byte in package scala\n",
       "   symbol definition: final abstract class Byte extends  (a ClassSymbol)\n",
       "      symbol package: scala\n",
       "       symbol owners: class Byte\n",
       "           call site: constructor $eval in object $eval in package $line73\n",
       "== Source file context for tree position ==\n",
       "     3\n",
       "     4 object $eval {\n",
       "     5   lazy val $result = res16\n",
       "     6   lazy val $print: _root_.java.lang.String =  {\n",
       "     7     $iw\n",
       "     8\n",
       "     9 val sb = new _root_.scala.StringBuilder)\n"
      ]
     },
     "metadata": {},
     "output_type": "display_data"
    },
    {
     "data": {
      "text/plain": [
       "[AccountDB: int, AccountCR: int ... 16 more fields]"
      ]
     },
     "execution_count": 34,
     "metadata": {},
     "output_type": "execute_result"
    }
   ],
   "source": [
    "// cформируем временную таблицу для sql\n",
    "dfRates.createOrReplaceTempView(\"rates\")\n",
    "// определим курс на подследнюю дату\n",
    "var lastRate = spark.sql(s\"\"\"SELECT Currency, Rate\n",
    "                             FROM rates\n",
    "                             WHERE RateDate = (SELECT MAX(RateDate) FROM rates)  \n",
    "                       \"\"\")\n",
    "\n",
    "import org.apache.spark.sql.functions._\n",
    "\n",
    "// зададим условие для объединения\n",
    "val rateCondition = clientsAndAccountsOp.col(\"Currency\") === lastRate.col(\"Currency\")\n",
    "// join\n",
    "var clientsAndAccountsOpRate = clientsAndAccountsOp\n",
    "                .join(lastRate,rateCondition,\"left\")\n",
    "                .drop(lastRate.col(\"Currency\"))\n",
    "\n",
    "// cформируем результирующую таблицу, с приведением рублевых сумм\n",
    "clientsAndAccountsOpRate = clientsAndAccountsOpRate\n",
    "        .withColumn(\"AmountRUB\",round(col(\"Amount\")*col(\"Rate\"),2))\n",
    "        .where($\"DateOp\" === pDateCommon)\n",
    "                                \n",
    "clientsAndAccountsOpRate.show()"
   ]
  },
  {
   "cell_type": "code",
   "execution_count": 35,
   "id": "fe0a7226",
   "metadata": {},
   "outputs": [
    {
     "ename": "Syntax Error.",
     "evalue": "",
     "output_type": "error",
     "traceback": []
    }
   ],
   "source": [
    "val corporate_payments = clientsAndAccountsOpRate.groupBy($\"AccDB\".as(\"AccountID\"), \n",
    "                                                          $\"ClientDB\".as(\"ClientId\"), \n",
    "                                                          $\"DateOp\".as(\"CutoffDt\"))\n",
    "        .agg(round(sum(when($\"AccDB\" === $\"AccountDB\", $\"AmountRub\").otherwise(0)), 2).as(\"PaymentAmt\"),\n",
    "             round(sum(when($\"AccDB\" === $\"AccountCR\", $\"AmountRub\").otherwise(0)), 2).as(\"EnrollementAmt\"),\n",
    "             round(sum(when($\"AccDB\" === $\"AccountDB\" && $\"NumCR\".startsWith(\"40702\"),$\"AmountRub\").otherwise(0)), 2).as(\"TaxAmt\"),\n",
    "             round(sum(when($\"AccDB\" ="
   ]
  },
  {
   "cell_type": "code",
   "execution_count": 36,
   "id": "5313c520",
   "metadata": {},
   "outputs": [
    {
     "name": "stdout",
     "output_type": "stream",
     "text": [
      "+---------+--------+----------+-----------+\n",
      "|AccountDB|ClientDB|    DateOp| PaymentAmt|\n",
      "+---------+--------+----------+-----------+\n",
      "|    11581|    1580|2020-11-01|12956099.37|\n",
      "|    13705|    3704|2020-11-01|13429262.85|\n",
      "|    10581|     580|2020-11-01|14830014.00|\n",
      "|    16461|    6461|2020-11-01|16558734.00|\n",
      "|    15153|    5152|2020-11-01|16174182.00|\n",
      "|    17189|    7188|2020-11-01|11198727.97|\n",
      "|    18981|    8981|2020-11-01|17299614.00|\n",
      "|    16041|    6040|2020-11-01|16435254.00|\n",
      "|    13457|    3456|2020-11-01|10374963.61|\n",
      "|     6493|    6493|2020-11-01|11822645.61|\n",
      "|    11825|    1824|2020-11-01|10014732.25|\n",
      "|     6485|    1483|2020-11-01| 8836034.05|\n",
      "|    12057|    2056|2020-11-01|15263958.00|\n",
      "|    15969|    5969|2020-11-01|16414086.00|\n",
      "|     9357|    9357|2020-11-01|14470158.00|\n",
      "|     8781|    8781|2020-11-01|14300814.00|\n",
      "|    10573|     572|2020-11-01|12731547.21|\n",
      "|    12197|    2196|2020-11-01|10096843.81|\n",
      "|      985|    5983|2020-11-01|10595628.45|\n",
      "|     7157|    7157|2020-11-01| 8984364.61|\n",
      "+---------+--------+----------+-----------+\n",
      "only showing top 20 rows\n",
      "\n"
     ]
    }
   ],
   "source": [
    "//Сумма операций по счету, где счет клиента указан в дебете проводки\n",
    "clientsAndAccountsOpRate.groupBy($\"AccountDB\",$\"ClientDB\",$\"DateOp\").agg(sum($\"AmountRub\").as(\"PaymentAmt\")).show()"
   ]
  },
  {
   "cell_type": "code",
   "execution_count": 37,
   "id": "eca18809",
   "metadata": {},
   "outputs": [
    {
     "name": "stdout",
     "output_type": "stream",
     "text": [
      "+---------+--------+----------+-----------+--------------+\n",
      "|AccountID|ClientId|    DateOp| PaymentAmt|EnrollementAmt|\n",
      "+---------+--------+----------+-----------+--------------+\n",
      "|     5167|    5167|2020-11-01|       null|   10413848.13|\n",
      "|     5375|    5375|2020-11-01|       null|    7487815.21|\n",
      "|      557|     557|2020-11-01| 7527546.61|          null|\n",
      "|     5835|    5835|2020-11-01|       null|   11965278.00|\n",
      "|     1201|    1201|2020-11-01|10643746.77|          null|\n",
      "|     6563|    6563|2020-11-01|       null|    7750042.45|\n",
      "|     7163|    7163|2020-11-01|       null|    7882480.45|\n",
      "|     2605|    2605|2020-11-01|10956515.85|          null|\n",
      "|     8471|    8471|2020-11-01|       null|    8171195.29|\n",
      "|     8787|    8787|2020-11-01|       null|   12833166.00|\n",
      "|     8791|    8791|2020-11-01|       null|   11221166.61|\n",
      "|     3877|    3877|2020-11-01|11239879.29|          null|\n",
      "|     4133|    4133|2020-11-01| 8316877.09|          null|\n",
      "|     4181|    4181|2020-11-01| 8327472.13|          null|\n",
      "|    10059|      59|2020-11-01|       null|   13207134.00|\n",
      "|    10343|     343|2020-11-01|       null|    8584401.85|\n",
      "|     6493|    6493|2020-11-01|11822645.61|          null|\n",
      "|     6893|    6893|2020-11-01| 8926091.89|          null|\n",
      "|     7157|    7157|2020-11-01| 8984364.61|          null|\n",
      "|    12247|    2247|2020-11-01|       null|   11991059.73|\n",
      "+---------+--------+----------+-----------+--------------+\n",
      "only showing top 20 rows\n",
      "\n"
     ]
    }
   ],
   "source": [
    "clientsAndAccountsOpRate.groupBy($\"AccDB\".as(\"AccountID\"), $\"ClientDB\".as(\"ClientId\"), $\"DateOp\")   \n",
    "        .agg(sum(when($\"AccDB\" === $\"AccountDB\", $\"AmountRub\")).as(\"PaymentAmt\"),\n",
    "             sum(when($\"AccDB\" === $\"AccountCR\", $\"AmountRub\")).as(\"EnrollementAmt\")\n",
    "            ).show()"
   ]
  },
  {
   "cell_type": "code",
   "execution_count": 38,
   "id": "1289ac0c",
   "metadata": {},
   "outputs": [
    {
     "name": "stdout",
     "output_type": "stream",
     "text": [
      "+---------+--------+----------+-----------+--------------+-----------+\n",
      "|AccountID|ClientId|    DateOp| PaymentAmt|EnrollementAmt|     TaxAmt|\n",
      "+---------+--------+----------+-----------+--------------+-----------+\n",
      "|     8592|    8592|2020-11-01|       0.00|   11508632.89|       0.00|\n",
      "|     8932|    8932|2020-11-01|       0.00|   17285502.00|       0.00|\n",
      "|    12559|    2559|2020-11-01|       0.00|   12060563.97|       0.00|\n",
      "|     5375|    5375|2020-11-01|       0.00|    7487815.21|       0.00|\n",
      "|    16461|    6461|2020-11-01|16558734.00|          0.00|       0.00|\n",
      "|     1752|    1752|2020-11-01|       0.00|    9998839.69|       0.00|\n",
      "|    18981|    8981|2020-11-01|17299614.00|          0.00|       0.00|\n",
      "|     6493|    6493|2020-11-01|11822645.61|          0.00|       0.00|\n",
      "|     4784|    4784|2020-11-01|       0.00|   13669854.45|       0.00|\n",
      "|    15969|    5969|2020-11-01|16414086.00|          0.00|16414086.00|\n",
      "|     6563|    6563|2020-11-01|       0.00|    7750042.45|       0.00|\n",
      "|     9357|    9357|2020-11-01|14470158.00|          0.00|14470158.00|\n",
      "|     8781|    8781|2020-11-01|14300814.00|          0.00|14300814.00|\n",
      "|     5167|    5167|2020-11-01|       0.00|   10413848.13|       0.00|\n",
      "|     7157|    7157|2020-11-01| 8984364.61|          0.00| 8984364.61|\n",
      "|    19777|    9777|2020-11-01|14781922.29|          0.00|       0.00|\n",
      "|      557|     557|2020-11-01| 7527546.61|          0.00| 7527546.61|\n",
      "|     1201|    1201|2020-11-01|10643746.77|          0.00|       0.00|\n",
      "|    14527|    4527|2020-11-01|       0.00|   12498975.33|       0.00|\n",
      "|     4133|    4133|2020-11-01| 8316877.09|          0.00|       0.00|\n",
      "+---------+--------+----------+-----------+--------------+-----------+\n",
      "only showing top 20 rows\n",
      "\n"
     ]
    }
   ],
   "source": [
    "//построение TaxAmt\n",
    "//Сумму операций, где счет клиента указан в дебете, и счет кредита 40702\n",
    " clientsAndAccountsOpRate.groupBy($\"AccDB\".as(\"AccountID\"), $\"ClientDB\".as(\"ClientId\"), $\"DateOp\")   \n",
    "        .agg(round(sum(when($\"AccDB\" === $\"AccountDB\", $\"AmountRub\").otherwise(0)), 2).as(\"PaymentAmt\"),\n",
    "             round(sum(when($\"AccDB\" === $\"AccountCR\", $\"AmountRub\").otherwise(0)), 2).as(\"EnrollementAmt\"),\n",
    "             round(sum(when($\"AccDB\" === $\"AccountDB\" && $\"NumCR\".startsWith(\"40702\"),$\"AmountRub\").otherwise(0)), 2).as(\"TaxAmt\")\n",
    "            ).show()"
   ]
  },
  {
   "cell_type": "code",
   "execution_count": 39,
   "id": "c5629986",
   "metadata": {},
   "outputs": [
    {
     "name": "stdout",
     "output_type": "stream",
     "text": [
      "+---------+--------+----------+-----------+--------------+-----------+-----------+\n",
      "|AccountID|ClientId|    DateOp| PaymentAmt|EnrollementAmt|     TaxAmt|   ClearAmt|\n",
      "+---------+--------+----------+-----------+--------------+-----------+-----------+\n",
      "|     5167|    5167|2020-11-01|       0.00|   10413848.13|       0.00|       0.00|\n",
      "|     5375|    5375|2020-11-01|       0.00|    7487815.21|       0.00| 7487815.21|\n",
      "|      557|     557|2020-11-01| 7527546.61|          0.00| 7527546.61|       0.00|\n",
      "|     5835|    5835|2020-11-01|       0.00|   11965278.00|       0.00|11965278.00|\n",
      "|     1201|    1201|2020-11-01|10643746.77|          0.00|       0.00|       0.00|\n",
      "|     6563|    6563|2020-11-01|       0.00|    7750042.45|       0.00| 7750042.45|\n",
      "|     7163|    7163|2020-11-01|       0.00|    7882480.45|       0.00| 7882480.45|\n",
      "|     2605|    2605|2020-11-01|10956515.85|          0.00|10956515.85|       0.00|\n",
      "|     8471|    8471|2020-11-01|       0.00|    8171195.29|       0.00|       0.00|\n",
      "|     8787|    8787|2020-11-01|       0.00|   12833166.00|       0.00|12833166.00|\n",
      "|     8791|    8791|2020-11-01|       0.00|   11221166.61|       0.00|       0.00|\n",
      "|     3877|    3877|2020-11-01|11239879.29|          0.00|       0.00|       0.00|\n",
      "|     4133|    4133|2020-11-01| 8316877.09|          0.00|       0.00|       0.00|\n",
      "|     4181|    4181|2020-11-01| 8327472.13|          0.00|       0.00|       0.00|\n",
      "|    10059|      59|2020-11-01|       0.00|   13207134.00|       0.00|13207134.00|\n",
      "|    10343|     343|2020-11-01|       0.00|    8584401.85|       0.00|       0.00|\n",
      "|     6493|    6493|2020-11-01|11822645.61|          0.00|       0.00|       0.00|\n",
      "|     6893|    6893|2020-11-01| 8926091.89|          0.00| 8926091.89|       0.00|\n",
      "|     7157|    7157|2020-11-01| 8984364.61|          0.00| 8984364.61|       0.00|\n",
      "|    12247|    2247|2020-11-01|       0.00|   11991059.73|       0.00|       0.00|\n",
      "+---------+--------+----------+-----------+--------------+-----------+-----------+\n",
      "only showing top 20 rows\n",
      "\n"
     ]
    }
   ],
   "source": [
    "//построение ClearAmt\n",
    "//Сумма операций, где счет клиента указан в кредите, и счет дебета 40802\n",
    "clientsAndAccountsOpRate.groupBy($\"AccDB\".as(\"AccountID\"), $\"ClientDB\".as(\"ClientId\"), $\"DateOp\")   \n",
    "        .agg(round(sum(when($\"AccDB\" === $\"AccountDB\", $\"AmountRub\").otherwise(0)), 2).as(\"PaymentAmt\"),\n",
    "             round(sum(when($\"AccDB\" === $\"AccountCR\", $\"AmountRub\").otherwise(0)), 2).as(\"EnrollementAmt\"),\n",
    "             round(sum(when($\"AccDB\" === $\"AccountDB\" && $\"NumCR\".startsWith(\"40702\"),$\"AmountRub\").otherwise(0)), 2).as(\"TaxAmt\"),\n",
    "             round(sum(when($\"AccDB\" === $\"AccountCR\" && $\"NumDB\".startsWith(\"40802\"),$\"AmountRub\").otherwise(0)), 2).as(\"ClearAmt\")\n",
    "            ).show()"
   ]
  },
  {
   "cell_type": "code",
   "execution_count": 50,
   "id": "4229d03e",
   "metadata": {},
   "outputs": [
    {
     "name": "stdout",
     "output_type": "stream",
     "text": [
      "+---------+--------+----------+-----------+--------------+-----------+-----------+-----------+\n",
      "|AccountID|ClientId|  CutoffDt| PaymentAmt|EnrollementAmt|     TaxAmt|   ClearAmt|    CarsAmt|\n",
      "+---------+--------+----------+-----------+--------------+-----------+-----------+-----------+\n",
      "|     8592|    8592|2020-11-01|       0.00|   11508632.89|       0.00|11508632.89|       0.00|\n",
      "|     8932|    8932|2020-11-01|       0.00|   17285502.00|       0.00|       0.00|       0.00|\n",
      "|    12559|    2559|2020-11-01|       0.00|   12060563.97|       0.00|       0.00|       0.00|\n",
      "|     5375|    5375|2020-11-01|       0.00|    7487815.21|       0.00| 7487815.21|       0.00|\n",
      "|    16461|    6461|2020-11-01|16558734.00|          0.00|       0.00|       0.00|16558734.00|\n",
      "|     1752|    1752|2020-11-01|       0.00|    9998839.69|       0.00| 9998839.69|       0.00|\n",
      "|    18981|    8981|2020-11-01|17299614.00|          0.00|       0.00|       0.00|17299614.00|\n",
      "|     6493|    6493|2020-11-01|11822645.61|          0.00|       0.00|       0.00|11822645.61|\n",
      "|     4784|    4784|2020-11-01|       0.00|   13669854.45|       0.00|13669854.45|       0.00|\n",
      "|    15969|    5969|2020-11-01|16414086.00|          0.00|16414086.00|       0.00|16414086.00|\n",
      "|     6563|    6563|2020-11-01|       0.00|    7750042.45|       0.00| 7750042.45|       0.00|\n",
      "|     9357|    9357|2020-11-01|14470158.00|          0.00|14470158.00|       0.00|14470158.00|\n",
      "|     8781|    8781|2020-11-01|14300814.00|          0.00|14300814.00|       0.00|14300814.00|\n",
      "|     5167|    5167|2020-11-01|       0.00|   10413848.13|       0.00|       0.00|       0.00|\n",
      "|     7157|    7157|2020-11-01| 8984364.61|          0.00| 8984364.61|       0.00| 8984364.61|\n",
      "|    19777|    9777|2020-11-01|14781922.29|          0.00|       0.00|       0.00|14781922.29|\n",
      "|      557|     557|2020-11-01| 7527546.61|          0.00| 7527546.61|       0.00| 7527546.61|\n",
      "|     1201|    1201|2020-11-01|10643746.77|          0.00|       0.00|       0.00|10643746.77|\n",
      "|    14527|    4527|2020-11-01|       0.00|   12498975.33|       0.00|       0.00|       0.00|\n",
      "|     4133|    4133|2020-11-01| 8316877.09|          0.00|       0.00|       0.00| 8316877.09|\n",
      "+---------+--------+----------+-----------+--------------+-----------+-----------+-----------+\n",
      "only showing top 20 rows\n",
      "\n"
     ]
    }
   ],
   "source": [
    "//построение CarsAmt\n",
    "//Сумма операций, где счет клиента указан в дебете проводки и назначение платежа не содержит слов по маскам Списка 1\n",
    "clientsAndAccountsOpRate.groupBy($\"AccDB\".as(\"AccountID\"), $\"ClientDB\".as(\"ClientId\"), $\"DateOp\".as(\"CutoffDt\"))   \n",
    "        .agg(round(sum(when($\"AccDB\" === $\"AccountDB\", $\"AmountRub\").otherwise(0)), 2).as(\"PaymentAmt\"),\n",
    "             round(sum(when($\"AccDB\" === $\"AccountCR\", $\"AmountRub\").otherwise(0)), 2).as(\"EnrollementAmt\"),\n",
    "             round(sum(when($\"AccDB\" === $\"AccountDB\" && $\"NumCR\".startsWith(\"40702\"),$\"AmountRub\").otherwise(0)), 2).as(\"TaxAmt\"),\n",
    "             round(sum(when($\"AccDB\" === $\"AccountCR\" && $\"NumDB\".startsWith(\"40802\"),$\"AmountRub\").otherwise(0)), 2).as(\"ClearAmt\"),\n",
    "             round(sum(when($\"AccDB\" === $\"AccountDB\", $\"AmountRub\").otherwise(0)), 2).as(\"CarsAmt\")\n",
    "            ).show()"
   ]
  },
  {
   "cell_type": "code",
   "execution_count": 51,
   "id": "afaff50c",
   "metadata": {},
   "outputs": [
    {
     "data": {
      "text/plain": [
       "corporate_payments = [AccountID: int, ClientId: int ... 5 more fields]\n"
      ]
     },
     "metadata": {},
     "output_type": "display_data"
    },
    {
     "data": {
      "text/plain": [
       "[AccountID: int, ClientId: int ... 5 more fields]"
      ]
     },
     "execution_count": 51,
     "metadata": {},
     "output_type": "execute_result"
    }
   ],
   "source": [
    "//Построение витрины данных (corporate_payments)\n",
    "val corporate_payments = clientsAndAccountsOpRate.groupBy($\"AccDB\".as(\"AccountID\"), \n",
    "                                                          $\"ClientDB\".as(\"ClientId\"), \n",
    "                                                          $\"DateOp\".as(\"CutoffDt\"))\n",
    "        .agg(round(sum(when($\"AccDB\" === $\"AccountDB\", $\"AmountRub\").otherwise(0)), 2).as(\"PaymentAmt\"),\n",
    "             round(sum(when($\"AccDB\" === $\"AccountCR\", $\"AmountRub\").otherwise(0)), 2).as(\"EnrollementAmt\"),\n",
    "             round(sum(when($\"AccDB\" === $\"AccountDB\" && $\"NumCR\".startsWith(\"40702\"),$\"AmountRub\").otherwise(0)), 2).as(\"TaxAmt\"),\n",
    "             round(sum(when($\"AccDB\" === $\"AccountCR\" && $\"NumDB\".startsWith(\"40802\"),$\"AmountRub\").otherwise(0)), 2).as(\"ClearAmt\")\n",
    "            )"
   ]
  },
  {
   "cell_type": "code",
   "execution_count": 52,
   "id": "5b0268d4",
   "metadata": {},
   "outputs": [
    {
     "name": "stdout",
     "output_type": "stream",
     "text": [
      "+---------+--------+----------+-----------+--------------+-----------+-----------+\n",
      "|AccountID|ClientId|  CutoffDt| PaymentAmt|EnrollementAmt|     TaxAmt|   ClearAmt|\n",
      "+---------+--------+----------+-----------+--------------+-----------+-----------+\n",
      "|     5167|    5167|2020-11-01|       0.00|   10413848.13|       0.00|       0.00|\n",
      "|     5375|    5375|2020-11-01|       0.00|    7487815.21|       0.00| 7487815.21|\n",
      "|      557|     557|2020-11-01| 7527546.61|          0.00| 7527546.61|       0.00|\n",
      "|     5835|    5835|2020-11-01|       0.00|   11965278.00|       0.00|11965278.00|\n",
      "|     1201|    1201|2020-11-01|10643746.77|          0.00|       0.00|       0.00|\n",
      "|     6563|    6563|2020-11-01|       0.00|    7750042.45|       0.00| 7750042.45|\n",
      "|     7163|    7163|2020-11-01|       0.00|    7882480.45|       0.00| 7882480.45|\n",
      "|     2605|    2605|2020-11-01|10956515.85|          0.00|10956515.85|       0.00|\n",
      "|     8471|    8471|2020-11-01|       0.00|    8171195.29|       0.00|       0.00|\n",
      "|     8787|    8787|2020-11-01|       0.00|   12833166.00|       0.00|12833166.00|\n",
      "|     8791|    8791|2020-11-01|       0.00|   11221166.61|       0.00|       0.00|\n",
      "|     3877|    3877|2020-11-01|11239879.29|          0.00|       0.00|       0.00|\n",
      "|     4133|    4133|2020-11-01| 8316877.09|          0.00|       0.00|       0.00|\n",
      "|     4181|    4181|2020-11-01| 8327472.13|          0.00|       0.00|       0.00|\n",
      "|    10059|      59|2020-11-01|       0.00|   13207134.00|       0.00|13207134.00|\n",
      "|    10343|     343|2020-11-01|       0.00|    8584401.85|       0.00|       0.00|\n",
      "|     6493|    6493|2020-11-01|11822645.61|          0.00|       0.00|       0.00|\n",
      "|     6893|    6893|2020-11-01| 8926091.89|          0.00| 8926091.89|       0.00|\n",
      "|     7157|    7157|2020-11-01| 8984364.61|          0.00| 8984364.61|       0.00|\n",
      "|    12247|    2247|2020-11-01|       0.00|   11991059.73|       0.00|       0.00|\n",
      "+---------+--------+----------+-----------+--------------+-----------+-----------+\n",
      "only showing top 20 rows\n",
      "\n"
     ]
    }
   ],
   "source": [
    " corporate_payments.show()"
   ]
  },
  {
   "cell_type": "code",
   "execution_count": 55,
   "id": "54c97c01",
   "metadata": {},
   "outputs": [
    {
     "data": {
      "text/plain": [
       "path = data_parquets/2020-11-01/corporate_payments\n"
      ]
     },
     "metadata": {},
     "output_type": "display_data"
    },
    {
     "data": {
      "text/plain": [
       "data_parquets/2020-11-01/corporate_payments"
      ]
     },
     "execution_count": 55,
     "metadata": {},
     "output_type": "execute_result"
    }
   ],
   "source": [
    " // запишем витрину corporate_payments в parquet-файл\n",
    "// parquet файл - экономит место, сохраняет данные с сжатом виде\n",
    "val path = \"data_parquets/\"+pDateCommon+\"/corporate_payments\"\n",
    "corporate_payments.write\n",
    "    .format(\"parquet\")\n",
    "    .option(\"path\", path)\n",
    "    .mode(\"Overwrite\").save()"
   ]
  },
  {
   "cell_type": "code",
   "execution_count": 56,
   "id": "8856b0e0",
   "metadata": {},
   "outputs": [
    {
     "name": "stdout",
     "output_type": "stream",
     "text": [
      "+---------+--------------------+----------+--------+----------+-----------+----------+\n",
      "|AccountID|          AccountNum|  DateOpen|ClientId|ClientName|   TotalAmt|  CutoffDt|\n",
      "+---------+--------------------+----------+--------+----------+-----------+----------+\n",
      "|        1|40702810927050000337|2020-11-01|       1|  Клиент 1|10376422.77|2020-11-01|\n",
      "|        4|40802810800000030701|2020-11-04|       4|  Клиент 4|14660670.00|2020-11-01|\n",
      "|        5|40802810300000011071|2020-11-01|       5|  Клиент 5| 7405703.65|2020-11-01|\n",
      "|        8|40802810409260005894|2020-11-04|       8|  Клиент 8|12605904.93|2020-11-01|\n",
      "|        9|40802810905030000004|2020-11-01|       9|  Клиент 9|11721846.00|2020-11-01|\n",
      "|       12|40702810836260000957|2020-11-04|      12| Клиент 12| 9614769.49|2020-11-01|\n",
      "|       13|40702810000000150277|2020-11-01|      13| Клиент 13|10379096.01|2020-11-01|\n",
      "|       16|40702810400000099734|2020-11-04|      16| Клиент 16|14664198.00|2020-11-01|\n",
      "|       17|40702810600000057437|2020-11-01|      17| Клиент 17| 7408352.41|2020-11-01|\n",
      "|       20|40702810473000000378|2020-11-04|      20| Клиент 20|12608578.17|2020-11-01|\n",
      "|       21|40702810300000049813|2020-11-01|      21| Клиент 21|11725374.00|2020-11-01|\n",
      "|       24|40702810812250000077|2020-11-04|      24| Клиент 24| 9617418.25|2020-11-01|\n",
      "|       25|40802810327110000024|2020-11-01|      25| Клиент 25|10381769.25|2020-11-01|\n",
      "|       28|40802810300000018362|2020-11-04|      28| Клиент 28|14667726.00|2020-11-01|\n",
      "|       29|40802810400020000632|2020-11-01|      29| Клиент 29| 7411001.17|2020-11-01|\n",
      "|       32|40702810400060008556|2020-11-04|      32| Клиент 32|12611251.41|2020-11-01|\n",
      "|       33|40702810900000120462|2020-11-01|      33| Клиент 33|11728902.00|2020-11-01|\n",
      "|       36|40702810900000152139|2020-11-04|      36| Клиент 36| 9620067.01|2020-11-01|\n",
      "|       37|40702810800000034454|2020-11-01|      37| Клиент 37|10384442.49|2020-11-01|\n",
      "|       40|40702810000000113612|2020-11-04|      40| Клиент 40|14671254.00|2020-11-01|\n",
      "+---------+--------------------+----------+--------+----------+-----------+----------+\n",
      "only showing top 20 rows\n",
      "\n"
     ]
    },
    {
     "data": {
      "text/plain": [
       "[AccountID: int, AccountNum: string ... 5 more fields]"
      ]
     },
     "execution_count": 56,
     "metadata": {},
     "output_type": "execute_result"
    },
    {
     "data": {
      "text/plain": [
       "corporate_account = [AccountID: int, AccountNum: string ... 5 more fields]\n"
      ]
     },
     "metadata": {},
     "output_type": "display_data"
    }
   ],
   "source": [
    "//Построение витрины данных (corporate_account)\n",
    "val corporate_account = corporate_payments\n",
    "    .join(clientsAndAccounts.select($\"AccountNum\", \n",
    "                                    $\"AccountID\", \n",
    "                                    $\"DateOpen\", \n",
    "                                    $\"ClientName\"), \"AccountID\")\n",
    "    .withColumn(\"TotalAmt\", round($\"PaymentAmt\" + $\"EnrollementAmt\",2))\n",
    "    .select($\"AccountID\", $\"AccountNum\", $\"DateOpen\", $\"ClientId\", $\"ClientName\", $\"TotalAmt\", $\"CutoffDt\")\n",
    "    .orderBy(\"AccountID\", \"CutoffDt\")\n",
    "\n",
    "corporate_account.show() "
   ]
  },
  {
   "cell_type": "code",
   "execution_count": 57,
   "id": "dee799e3",
   "metadata": {},
   "outputs": [
    {
     "data": {
      "text/plain": [
       "path = data_parquets/2020-11-01/corporate_account\n"
      ]
     },
     "metadata": {},
     "output_type": "display_data"
    },
    {
     "data": {
      "text/plain": [
       "data_parquets/2020-11-01/corporate_account"
      ]
     },
     "execution_count": 57,
     "metadata": {},
     "output_type": "execute_result"
    }
   ],
   "source": [
    " // запишем витрину corporate_payments в parquet-файл\n",
    "// parquet файл - экономит место, сохраняет данные с сжатом виде\n",
    "val path = \"data_parquets/\"+pDateCommon+\"/corporate_account\"\n",
    "corporate_account.write\n",
    "    .format(\"parquet\")\n",
    "    .option(\"path\", path)\n",
    "    .mode(\"Overwrite\").save()"
   ]
  },
  {
   "cell_type": "code",
   "execution_count": 58,
   "id": "d3376fe7",
   "metadata": {},
   "outputs": [
    {
     "name": "stdout",
     "output_type": "stream",
     "text": [
      "+--------+----------+----+----+------------+-----------+----------+\n",
      "|ClientId|ClientName|Type|Form|RegisterDate|   TotalAmt|  CutoffDt|\n",
      "+--------+----------+----+----+------------+-----------+----------+\n",
      "|       1|  Клиент 1|   Ф|   -|  2020-11-01|10376422.77|2020-11-01|\n",
      "|       1|  Клиент 1|   Ф|   -|  2020-11-01|10376422.77|2020-11-01|\n",
      "|       4|  Клиент 4|   Ю|  ИП|  2020-11-04|14660670.00|2020-11-01|\n",
      "|       4|  Клиент 4|   Ю|  ИП|  2020-11-04|14660670.00|2020-11-01|\n",
      "|       5|  Клиент 5|   Ф|   -|  2020-11-01| 7405703.65|2020-11-01|\n",
      "|       5|  Клиент 5|   Ф|   -|  2020-11-01| 7405703.65|2020-11-01|\n",
      "|       8|  Клиент 8|   Ю| ПАО|  2020-11-01|12605904.93|2020-11-01|\n",
      "|       8|  Клиент 8|   Ю| ПАО|  2020-11-01|12605904.93|2020-11-01|\n",
      "|       9|  Клиент 9|   Ф|   -|  2020-11-02|11721846.00|2020-11-01|\n",
      "|       9|  Клиент 9|   Ф|   -|  2020-11-02|11721846.00|2020-11-01|\n",
      "|      12| Клиент 12|   Ю|  ИП|  2020-11-01| 9614769.49|2020-11-01|\n",
      "|      12| Клиент 12|   Ю|  ИП|  2020-11-01| 9614769.49|2020-11-01|\n",
      "|      13| Клиент 13|   Ф|   -|  2020-11-02|10379096.01|2020-11-01|\n",
      "|      13| Клиент 13|   Ф|   -|  2020-11-02|10379096.01|2020-11-01|\n",
      "|      16| Клиент 16|   Ю| ПАО|  2020-11-02|14664198.00|2020-11-01|\n",
      "|      16| Клиент 16|   Ю| ПАО|  2020-11-02|14664198.00|2020-11-01|\n",
      "|      17| Клиент 17|   Ф|   -|  2020-11-03| 7408352.41|2020-11-01|\n",
      "|      17| Клиент 17|   Ф|   -|  2020-11-03| 7408352.41|2020-11-01|\n",
      "|      20| Клиент 20|   Ю|  ИП|  2020-11-02|12608578.17|2020-11-01|\n",
      "|      20| Клиент 20|   Ю|  ИП|  2020-11-02|12608578.17|2020-11-01|\n",
      "+--------+----------+----+----+------------+-----------+----------+\n",
      "only showing top 20 rows\n",
      "\n"
     ]
    },
    {
     "data": {
      "text/plain": [
       "corporate_info = [AccountID: int, AccountNum: string ... 10 more fields]\n"
      ]
     },
     "metadata": {},
     "output_type": "display_data"
    },
    {
     "data": {
      "text/plain": [
       "[AccountID: int, AccountNum: string ... 10 more fields]"
      ]
     },
     "execution_count": 58,
     "metadata": {},
     "output_type": "execute_result"
    }
   ],
   "source": [
    "//Построение витрины данных (corporate_info)\n",
    "val corporate_info = corporate_account\n",
    "    .join(clientsAndAccounts.select($\"ClientId\".as(\"Clid\"),\n",
    "                                    $\"ClientName\".as(\"ClName\"),\n",
    "                                    $\"Type\",\n",
    "                                    $\"Form\",\n",
    "                                    $\"RegisterDate\"), $\"Clid\"===$\"ClientId\",\"left\")\n",
    "\n",
    "\n",
    "\n",
    "corporate_info.select($\"ClientId\",\n",
    "                      $\"ClientName\",\n",
    "                      $\"Type\",\n",
    "                      $\"Form\",\n",
    "                      $\"RegisterDate\",\n",
    "                      $\"TotalAmt\",\n",
    "                      $\"CutoffDt\").show()\n"
   ]
  },
  {
   "cell_type": "code",
   "execution_count": 59,
   "id": "01dd4cb6",
   "metadata": {},
   "outputs": [
    {
     "data": {
      "text/plain": [
       "path = data_parquets/2020-11-01/corporate_info\n"
      ]
     },
     "metadata": {},
     "output_type": "display_data"
    },
    {
     "data": {
      "text/plain": [
       "data_parquets/2020-11-01/corporate_info"
      ]
     },
     "execution_count": 59,
     "metadata": {},
     "output_type": "execute_result"
    }
   ],
   "source": [
    " // запишем витрину corporate_info в parquet-файл\n",
    "// parquet файл - экономит место, сохраняет данные с сжатом виде\n",
    "val path = \"data_parquets/\"+pDateCommon+\"/corporate_info\"\n",
    "corporate_info.write\n",
    "    .format(\"parquet\")\n",
    "    .option(\"path\",path)\n",
    "    .mode(\"Overwrite\").save()"
   ]
  },
  {
   "cell_type": "code",
   "execution_count": null,
   "id": "af58f063",
   "metadata": {},
   "outputs": [],
   "source": []
  }
 ],
 "metadata": {
  "kernelspec": {
   "display_name": "Apache Toree - Scala",
   "language": "scala",
   "name": "apache_toree_scala"
  },
  "language_info": {
   "codemirror_mode": "text/x-scala",
   "file_extension": ".scala",
   "mimetype": "text/x-scala",
   "name": "scala",
   "pygments_lexer": "scala",
   "version": "2.12.15"
  }
 },
 "nbformat": 4,
 "nbformat_minor": 5
}
